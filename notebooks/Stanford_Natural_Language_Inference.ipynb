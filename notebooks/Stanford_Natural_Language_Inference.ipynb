{
  "nbformat": 4,
  "nbformat_minor": 0,
  "metadata": {
    "colab": {
      "name": "Stanford Natural Language Inference.ipynb",
      "provenance": [],
      "collapsed_sections": [],
      "toc_visible": true
    },
    "kernelspec": {
      "name": "python3",
      "display_name": "Python 3"
    }
  },
  "cells": [
    {
      "cell_type": "markdown",
      "metadata": {
        "id": "vojZlKARGJnv"
      },
      "source": [
        "# Import Librarties"
      ]
    },
    {
      "cell_type": "code",
      "metadata": {
        "id": "__ruGKCkFj7e"
      },
      "source": [
        " import numpy as np\n",
        "import pandas as pd \n",
        "import torch\n",
        "import torch.nn as nn\n",
        "import torch.nn.functional as F\n",
        "from torch.utils.data import Dataset\n",
        "from collections import Counter\n",
        "import pickle as pkl\n",
        "import random\n",
        "import string\n",
        "import time\n",
        "from gensim.models import KeyedVectors\n",
        "from tqdm import tqdm_notebook\n",
        "import os\n",
        "from os import listdir \n",
        "import matplotlib.pyplot as plt \n",
        "from torch.optim import Adam\n",
        "from ast import literal_eval\n",
        "from datetime import datetime\n",
        "from sklearn.metrics import confusion_matrix\n",
        "pd.set_option('max_colwidth',100)\n",
        "import matplotlib.style\n",
        "import matplotlib as mpl\n",
        "mpl.style.use('bmh')"
      ],
      "execution_count": null,
      "outputs": []
    },
    {
      "cell_type": "code",
      "metadata": {
        "id": "SbLpteF8Gc5u"
      },
      "source": [
        "random.seed(134)\n",
        "PAD_IDX = 0\n",
        "UNK_IDX = 1\n",
        "BATCH_SIZE = 64\n",
        "MAX_VOCAB_SIZE = 50000\n",
        "device = torch.device(\"cuda:0\" if torch.cuda.is_available() else \"cpu\")"
      ],
      "execution_count": null,
      "outputs": []
    },
    {
      "cell_type": "markdown",
      "metadata": {
        "id": "iAY4kiEbGjSd"
      },
      "source": [
        "# Data Processing"
      ]
    },
    {
      "cell_type": "markdown",
      "metadata": {
        "id": "GykkMTJ_GpW0"
      },
      "source": [
        "## Build vocab from pretrained word embeddings"
      ]
    },
    {
      "cell_type": "code",
      "metadata": {
        "id": "W46H392QGddP"
      },
      "source": [
        "# build vocab from fasttext embeddings \n",
        "\n",
        "def build_vocab(word2vec_source, max_vocab_size): \n",
        "    \"\"\" Takes pretrained word2vec source path, limits to max_vocab_size, and returns:  \n",
        "        - id2token: list of tokens, where id2token[i] returns token that corresponds to i-th token \n",
        "        - token2id: dictionary where keys represent tokens and corresponding values represent their indices \n",
        "        - word_emb: dictionary representing word embeddings \n",
        "    \"\"\"\n",
        "    word2vec_model = KeyedVectors.load_word2vec_format(word2vec_source, limit=max_vocab_size)\n",
        "    id2token = word2vec_model.index2word\n",
        "    token2id = dict(zip(id2token, range(2, 2+len(id2token))))\n",
        "    id2token = ['<pad>', '<unk>'] + id2token \n",
        "    word_emb = {token2id[w]: word2vec_model[w] for w in word2vec_model.vocab}\n",
        "\n",
        "    return id2token, token2id, word_emb"
      ],
      "execution_count": null,
      "outputs": []
    },
    {
      "cell_type": "code",
      "metadata": {
        "id": "qWjuWDhKGdvV",
        "outputId": "8acff92a-a8a3-446e-dd99-1e199aff03ae",
        "colab": {
          "base_uri": "https://localhost:8080/"
        }
      },
      "source": [
        "id2token, token2id, word_emb = build_vocab('/content/drive/My Drive/Stanford Natural Language Inference/wiki-news-300d-1M.vec', MAX_VOCAB_SIZE)"
      ],
      "execution_count": null,
      "outputs": [
        {
          "output_type": "stream",
          "text": [
            "/usr/local/lib/python3.6/dist-packages/smart_open/smart_open_lib.py:252: UserWarning: This function is deprecated, use smart_open.open instead. See the migration notes for details: https://github.com/RaRe-Technologies/smart_open/blob/master/README.rst#migrating-to-the-new-open-function\n",
            "  'See the migration notes for details: %s' % _MIGRATION_NOTES_URL\n"
          ],
          "name": "stderr"
        }
      ]
    },
    {
      "cell_type": "code",
      "metadata": {
        "id": "F7dY_YfTGdNI"
      },
      "source": [
        "# convert word_emb from dict to matrix \n",
        "pretrained_weights = np.zeros((MAX_VOCAB_SIZE+2, 300))\n",
        "for idx in word_emb: \n",
        "    try: \n",
        "        pretrained_weights[idx] = word_emb[idx]\n",
        "    except KeyError: \n",
        "        pretrained_weights[idx] = np.random.normal(size=(300,))\n",
        "pretrained_weights = torch.from_numpy(pretrained_weights.astype(np.float32)).to(device)"
      ],
      "execution_count": null,
      "outputs": []
    },
    {
      "cell_type": "markdown",
      "metadata": {
        "id": "YRNlwoShH6y5"
      },
      "source": [
        "## Load data and convert to indices"
      ]
    },
    {
      "cell_type": "code",
      "metadata": {
        "id": "Blo3Z3ShGcmB",
        "outputId": "94565bcc-6cdd-48e2-f1f9-3fc08afa1c43",
        "colab": {
          "base_uri": "https://localhost:8080/"
        }
      },
      "source": [
        "#load data into pandas dataframe \n",
        "snli_train = pd.read_table('/content/drive/My Drive/Stanford Natural Language Inference/snli_train.tsv')\n",
        "snli_val = pd.read_table('/content/drive/My Drive/Stanford Natural Language Inference/snli_val.tsv')\n",
        "#mnli_train = pd.read_table('hw2_data/mnli_train.tsv')\n",
        "#mnli_val = pd.read_table('hw2_data/mnli_val.tsv')\n",
        "print(len(snli_train), len(snli_val)) \n",
        "      #len(mnli_train), len(mnli_val))"
      ],
      "execution_count": null,
      "outputs": [
        {
          "output_type": "stream",
          "text": [
            "100000 1000\n"
          ],
          "name": "stdout"
        }
      ]
    },
    {
      "cell_type": "code",
      "metadata": {
        "id": "nBBDiUfKGW3u",
        "outputId": "0586d5e0-623e-4ee7-f149-5e60a54c3621",
        "colab": {
          "base_uri": "https://localhost:8080/",
          "height": 195
        }
      },
      "source": [
        "snli_train.head()"
      ],
      "execution_count": null,
      "outputs": [
        {
          "output_type": "execute_result",
          "data": {
            "text/html": [
              "<div>\n",
              "<style scoped>\n",
              "    .dataframe tbody tr th:only-of-type {\n",
              "        vertical-align: middle;\n",
              "    }\n",
              "\n",
              "    .dataframe tbody tr th {\n",
              "        vertical-align: top;\n",
              "    }\n",
              "\n",
              "    .dataframe thead th {\n",
              "        text-align: right;\n",
              "    }\n",
              "</style>\n",
              "<table border=\"1\" class=\"dataframe\">\n",
              "  <thead>\n",
              "    <tr style=\"text-align: right;\">\n",
              "      <th></th>\n",
              "      <th>sentence1</th>\n",
              "      <th>sentence2</th>\n",
              "      <th>label</th>\n",
              "    </tr>\n",
              "  </thead>\n",
              "  <tbody>\n",
              "    <tr>\n",
              "      <th>0</th>\n",
              "      <td>A young girl in a pink shirt sitting on a dock viewing a body of water .</td>\n",
              "      <td>A young girl watching the sunset over the water .</td>\n",
              "      <td>neutral</td>\n",
              "    </tr>\n",
              "    <tr>\n",
              "      <th>1</th>\n",
              "      <td>A woman is smiling while the man next to her is focused on a blue object with a pattern on it .</td>\n",
              "      <td>Two people are next to each other .</td>\n",
              "      <td>entailment</td>\n",
              "    </tr>\n",
              "    <tr>\n",
              "      <th>2</th>\n",
              "      <td>Across the river , you can see a large building .</td>\n",
              "      <td>The large building is full of apartments and tenants</td>\n",
              "      <td>neutral</td>\n",
              "    </tr>\n",
              "    <tr>\n",
              "      <th>3</th>\n",
              "      <td>a man in white shorts and a black shirt is paragliding on the ocean</td>\n",
              "      <td>A man is riding a jetski on the ocean .</td>\n",
              "      <td>contradiction</td>\n",
              "    </tr>\n",
              "    <tr>\n",
              "      <th>4</th>\n",
              "      <td>Four black dogs run together on bright green grass .</td>\n",
              "      <td>Four dogs are preparing to be launched into space .</td>\n",
              "      <td>contradiction</td>\n",
              "    </tr>\n",
              "  </tbody>\n",
              "</table>\n",
              "</div>"
            ],
            "text/plain": [
              "                                                                                         sentence1  ...          label\n",
              "0                         A young girl in a pink shirt sitting on a dock viewing a body of water .  ...        neutral\n",
              "1  A woman is smiling while the man next to her is focused on a blue object with a pattern on it .  ...     entailment\n",
              "2                                                Across the river , you can see a large building .  ...        neutral\n",
              "3                              a man in white shorts and a black shirt is paragliding on the ocean  ...  contradiction\n",
              "4                                             Four black dogs run together on bright green grass .  ...  contradiction\n",
              "\n",
              "[5 rows x 3 columns]"
            ]
          },
          "metadata": {
            "tags": []
          },
          "execution_count": 7
        }
      ]
    },
    {
      "cell_type": "code",
      "metadata": {
        "id": "e0fFgWAWGXTs"
      },
      "source": [
        "# helper methods to convert pandas df to lists of word indices and labels \n",
        "\n",
        "label_dict = {'contradiction': 0, 'neutral': 1, 'entailment': 2}\n",
        "\n",
        "def token_to_index_datum(datum_tokens, token2id): \n",
        "    \"\"\" Converts a list of tokens and converts it to a list of token indices for one datum \"\"\" \n",
        "    index_list = [token2id[token] if token in token2id else UNK_IDX for token in datum_tokens]\n",
        "    return index_list \n",
        "\n",
        "def df_to_list(data_df, token2id): \n",
        "    \"\"\" Takes train/val data as pandas df and returns: \n",
        "        - list of lists of word indices representing first sentence \n",
        "        - list of lists of word indices representing second sentence \n",
        "        - list of ground truth labels indicating entailment/contradiction/neutrality of two sentences \n",
        "    \"\"\"\n",
        "    sent1 = [token_to_index_datum(sent.split(), token2id) for sent in data_df['sentence1'].tolist()] \n",
        "    sent2 = [token_to_index_datum(sent.split(), token2id) for sent in data_df['sentence2'].tolist()] \n",
        "    labels = [label_dict[label] for label in data_df['label'].tolist()] \n",
        "    return sent1, sent2, labels"
      ],
      "execution_count": null,
      "outputs": []
    },
    {
      "cell_type": "code",
      "metadata": {
        "id": "YU5W_28UGXps"
      },
      "source": [
        "# convert data to indices \n",
        "snli_train_sent1, snli_train_sent2, snli_train_labels = df_to_list(snli_train, token2id)\n",
        "snli_val_sent1, snli_val_sent2, snli_val_labels = df_to_list(snli_val, token2id)\n",
        "#mnli_train_sent1, mnli_train_sent2, mnli_train_labels = df_to_list(mnli_train, token2id)\n",
        "#mnli_val_sent1, mnli_val_sent2, mnli_val_labels = df_to_list(mnli_val, token2id)"
      ],
      "execution_count": null,
      "outputs": []
    },
    {
      "cell_type": "code",
      "metadata": {
        "id": "R0fIKPGFGYAI",
        "outputId": "101849a2-4fcd-4d97-87ba-5645d5938603",
        "colab": {
          "base_uri": "https://localhost:8080/",
          "height": 241
        }
      },
      "source": [
        "# check distribution of labels \n",
        "plt.figure(figsize=(6, 3))\n",
        "snli_train['label'].value_counts().plot(kind='barh')\n",
        "plt.xlabel('Frequency')\n",
        "plt.ylabel('Label')"
      ],
      "execution_count": null,
      "outputs": [
        {
          "output_type": "execute_result",
          "data": {
            "text/plain": [
              "Text(0, 0.5, 'Label')"
            ]
          },
          "metadata": {
            "tags": []
          },
          "execution_count": 10
        },
        {
          "output_type": "display_data",
          "data": {
            "image/png": "[encoded data removed]",
            "text/plain": [
              "<Figure size 432x216 with 1 Axes>"
            ]
          },
          "metadata": {
            "tags": [],
            "needs_background": "light"
          }
        }
      ]
    },
    {
      "cell_type": "code",
      "metadata": {
        "id": "Bpnh5hVbGYZE",
        "outputId": "24796cd3-005c-4650-f960-534dc6f6d089",
        "colab": {
          "base_uri": "https://localhost:8080/",
          "height": 296
        }
      },
      "source": [
        "# check distribution of sentence lengths \n",
        "plt.figure(figsize=(6, 4))\n",
        "snli_train['sentence1'].apply(lambda x: x.split()).apply(len).hist(bins=50, label='Premise (Sentence 1)')\n",
        "snli_train['sentence2'].apply(lambda x: x.split()).apply(len).hist(bins=50, label='Hypothesis (Sentence 2)')\n",
        "plt.xlabel('Sentence Length')\n",
        "plt.ylabel('Frequency')\n",
        "plt.legend()"
      ],
      "execution_count": null,
      "outputs": [
        {
          "output_type": "execute_result",
          "data": {
            "text/plain": [
              "<matplotlib.legend.Legend at 0x7f3992d83940>"
            ]
          },
          "metadata": {
            "tags": []
          },
          "execution_count": 11
        },
        {
          "output_type": "display_data",
          "data": {
            "image/png": "[encoded data removed]",
            "text/plain": [
              "<Figure size 432x288 with 1 Axes>"
            ]
          },
          "metadata": {
            "tags": [],
            "needs_background": "light"
          }
        }
      ]
    },
    {
      "cell_type": "code",
      "metadata": {
        "id": "oOBOt1H8GYvV"
      },
      "source": [
        "# based on results above, we set our max_sentence_length to 40 which covers all of sentence2 and most of sentence1 \n",
        "MAX_SENTENCE_LENGTH = 40"
      ],
      "execution_count": null,
      "outputs": []
    },
    {
      "cell_type": "markdown",
      "metadata": {
        "id": "T1fBXDBTImO9"
      },
      "source": [
        "## Build PyTorch Dataloader"
      ]
    },
    {
      "cell_type": "code",
      "metadata": {
        "id": "uqg2VxlqGZEE"
      },
      "source": [
        "# helper functions to create dataloader \n",
        "\n",
        "class SNLI_Dataset(Dataset): \n",
        "    \"\"\" \n",
        "    Class that represents a train/validation/test dataset that's readable for PyTorch\n",
        "    Note that this class inherits torch.utils.data.Dataset    \n",
        "    \"\"\"\n",
        "    \n",
        "    def __init__(self, sent1_list, sent2_list, label_list): \n",
        "        \"\"\" \n",
        "        Initialize dataset by passing in the sent and label lists, along with max_sent_length \n",
        "        \"\"\"\n",
        "        self.sent1_list = sent1_list\n",
        "        self.sent2_list = sent2_list \n",
        "        self.label_list = label_list\n",
        "        assert (len(self.sent1_list) == len(self.sent2_list) == len(self.label_list))\n",
        "        \n",
        "    def __len__(self): \n",
        "        return len(self.label_list)\n",
        "    \n",
        "    def __getitem__(self, key): \n",
        "        \"\"\"\n",
        "        Triggered when dataset[i] is called, outputs a list of tokens, lengths of lists, and label of the data point\n",
        "        \"\"\"\n",
        "        sent1_idx = self.sent1_list[key][:MAX_SENTENCE_LENGTH]\n",
        "        sent2_idx = self.sent2_list[key][:MAX_SENTENCE_LENGTH]    \n",
        "        sent1_len = len(sent1_idx)\n",
        "        sent2_len = len(sent2_idx)\n",
        "        label = self.label_list[key]\n",
        "        return [sent1_idx, sent2_idx, sent1_len, sent2_len, label]\n",
        "    \n",
        "def collate_func(batch): \n",
        "    \"\"\"Customized function for DataLoader that dynamically pads the batch \n",
        "       so that all data have the same length\"\"\" \n",
        "    \n",
        "    sents1 = [] \n",
        "    sents2 = [] \n",
        "    sent1_lens = [] \n",
        "    sent2_lens = [] \n",
        "    labels = [] \n",
        "\n",
        "    for datum in batch:\n",
        "        sent1_lens.append(datum[2])\n",
        "        sent2_lens.append(datum[3])\n",
        "        labels.append(datum[4])\n",
        "        \n",
        "        # pad data before appending \n",
        "        padded_vec1 = np.pad(array=np.array(datum[0]), \n",
        "                             pad_width = ((0, MAX_SENTENCE_LENGTH - datum[2])), \n",
        "                             mode = 'constant', constant_values = 0)\n",
        "        padded_vec2 = np.pad(array=np.array(datum[1]), \n",
        "                             pad_width = ((0, MAX_SENTENCE_LENGTH - datum[3])), \n",
        "                             mode = 'constant', constant_values = 0)\n",
        "        sents1.append(padded_vec1)\n",
        "        sents2.append(padded_vec2)\n",
        "        \n",
        "    return [torch.from_numpy(np.array(sents1)), torch.from_numpy(np.array(sents2)), \n",
        "            torch.LongTensor(sent1_lens), torch.LongTensor(sent2_lens), torch.LongTensor(labels)]\n",
        "\n",
        "def create_data_loader(sent1_list, sent2_list, label_list): \n",
        "    \"\"\" Takes index lists of sentence1, setence2, and labels for a given dataset and returns a data loader \"\"\"\n",
        "    data_set = SNLI_Dataset(sent1_list, sent2_list, label_list)\n",
        "    data_loader = torch.utils.data.DataLoader(dataset=data_set, batch_size=BATCH_SIZE, \n",
        "                                              collate_fn=collate_func, shuffle=False)\n",
        "    return data_loader"
      ],
      "execution_count": null,
      "outputs": []
    },
    {
      "cell_type": "code",
      "metadata": {
        "id": "BZkejCcvGZWk"
      },
      "source": [
        "#create data loaders \n",
        "snli_train_loader = create_data_loader(snli_train_sent1, snli_train_sent2, snli_train_labels)\n",
        "snli_val_loader = create_data_loader(snli_val_sent1, snli_val_sent2, snli_val_labels)"
      ],
      "execution_count": null,
      "outputs": []
    },
    {
      "cell_type": "code",
      "metadata": {
        "id": "79eZ7ATfGZtI",
        "outputId": "2a1a7eb0-71b4-49f0-f8e2-2dd5aac5740a",
        "colab": {
          "base_uri": "https://localhost:8080/"
        }
      },
      "source": [
        "for i, (sent1_idx, sent2_idx, sent1_len, sent2_len, label) in enumerate(snli_train_loader):\n",
        "    print(i)\n",
        "    print(sent1_idx)\n",
        "    print(sent2_idx)\n",
        "    print(sent1_len)\n",
        "    print(sent2_len)\n",
        "    print(label)\n",
        "    break"
      ],
      "execution_count": null,
      "outputs": [
        {
          "output_type": "stream",
          "text": [
            "0\n",
            "tensor([[  106,   802,  1830,  ...,     0,     0,     0],\n",
            "        [  106,   994,    15,  ...,     0,     0,     0],\n",
            "        [17790,     3,  1938,  ...,     0,     0,     0],\n",
            "        ...,\n",
            "        [ 3799,  5700,  5367,  ...,     0,     0,     0],\n",
            "        [ 2129,    34, 14364,  ...,     0,     0,     0],\n",
            "        [  106,  5895,   194,  ...,     0,     0,     0]])\n",
            "tensor([[ 106,  802, 1830,  ...,    0,    0,    0],\n",
            "        [1442,   67,   34,  ...,    0,    0,    0],\n",
            "        [  22,  542,  402,  ...,    0,    0,    0],\n",
            "        ...,\n",
            "        [  22, 5700,   34,  ...,    0,    0,    0],\n",
            "        [ 106,  347, 2784,  ...,    0,    0,    0],\n",
            "        [ 106,  347, 5822,  ...,    0,    0,    0]])\n",
            "tensor([17, 22, 11, 14, 10, 13, 10,  7, 18, 32, 13, 13, 30, 13, 17, 10, 26, 17,\n",
            "         8, 13,  8, 13,  8, 25,  9, 15, 12,  7, 21, 10,  9, 10, 10, 10,  9, 24,\n",
            "        11, 24, 16,  8,  8,  9, 15, 19, 15, 12, 10, 34, 12, 10, 22, 13,  7, 12,\n",
            "        19, 16, 13,  9, 13, 20, 11, 19, 31, 30])\n",
            "tensor([10,  8,  9, 10, 10,  5,  9, 10,  4,  5,  6,  9, 11, 10,  8, 11,  8,  9,\n",
            "         9,  8,  8,  4,  8, 18,  5,  4,  7,  7,  7,  8, 10,  8,  5,  6,  8, 14,\n",
            "        12,  8,  5,  7,  5,  7,  9,  9,  7,  6, 14,  6,  4,  6,  5,  5,  9,  7,\n",
            "        10,  8,  7,  7,  9, 10,  8,  7, 10, 14])\n",
            "tensor([1, 2, 1, 0, 0, 2, 0, 1, 2, 2, 1, 0, 0, 2, 2, 1, 1, 1, 0, 2, 0, 1, 1, 1,\n",
            "        1, 2, 1, 2, 2, 1, 1, 0, 2, 0, 2, 0, 1, 0, 1, 0, 2, 1, 1, 0, 2, 0, 1, 0,\n",
            "        2, 2, 1, 2, 2, 0, 2, 1, 0, 2, 2, 2, 2, 1, 2, 2])\n"
          ],
          "name": "stdout"
        }
      ]
    },
    {
      "cell_type": "markdown",
      "metadata": {
        "id": "Yc7KAcLuJU3A"
      },
      "source": [
        "# Model Architecture"
      ]
    },
    {
      "cell_type": "markdown",
      "metadata": {
        "id": "dyZ7F9RkJaba"
      },
      "source": [
        "## RNN (Single-Layer GRU)"
      ]
    },
    {
      "cell_type": "code",
      "metadata": {
        "id": "Z-7suc71GaI6"
      },
      "source": [
        "# Bi-Directional GRU with dropout \n",
        "\n",
        "class rnn_model(nn.Module):\n",
        "    def __init__(self, emb_size, hidden_size, num_layers, fc_out_size, num_classes, \n",
        "                 pretrained_weights, bidirectional=True, dropout_fc=None):\n",
        "        super().__init__() \n",
        "        self.num_layers, self.hidden_size, self.bidirectional, self.dropout_fc = num_layers, hidden_size, bidirectional, dropout_fc\n",
        "        self.embedding1 = nn.Embedding.from_pretrained(pretrained_weights, freeze=True)\n",
        "        self.embedding2 = nn.Embedding.from_pretrained(pretrained_weights, freeze=True)\n",
        "        self.rnn1 = nn.GRU(emb_size, hidden_size, num_layers, bidirectional=bidirectional, batch_first=True)\n",
        "        self.rnn2 = nn.GRU(emb_size, hidden_size, num_layers, bidirectional=bidirectional, batch_first=True)\n",
        "        self.fc1 = nn.Linear(2*2*hidden_size, fc_out_size)\n",
        "        self.fc2 = nn.Linear(fc_out_size, num_classes)\n",
        "\n",
        "    def init_hidden(self, batch_size):\n",
        "        # Function initializes the activation of recurrent neural net at timestep 0\n",
        "        # Needs to be in format (num_layers, batch_size, hidden_size)\n",
        "        if self.bidirectional: \n",
        "            hidden = torch.randn(self.num_layers * 2, batch_size, self.hidden_size)\n",
        "        else: \n",
        "            hidden = torch.randn(self.num_layers, batch_size, self.hidden_size)\n",
        "\n",
        "        return hidden\n",
        "\n",
        "    def forward(self, x1, x2, x1_lengths, x2_lengths):\n",
        "\n",
        "        batch_size = x1.size()[0]\n",
        "\n",
        "        # run sentence 1 \n",
        "        _, idx_sort1 = torch.sort(x1_lengths, dim=0, descending=True)\n",
        "        _, idx_unsort1 = torch.sort(idx_sort1, dim=0)\n",
        "        x1, x1_lengths = x1.index_select(0, idx_sort1), x1_lengths.index_select(0, idx_sort1)\n",
        "        embed1 = self.embedding1(x1)\n",
        "        embed1 = torch.nn.utils.rnn.pack_padded_sequence(embed1, x1_lengths, batch_first=True)\n",
        "        self.hidden1 = self.init_hidden(batch_size).to(device)      \n",
        "        rnn1_out, self.hidden1 = self.rnn1(embed1, self.hidden1)\n",
        "        rnn1_out, _ = torch.nn.utils.rnn.pad_packed_sequence(rnn1_out, batch_first=True)\n",
        "        rnn1_out_final = torch.cat([rnn1_out[:, -1, :self.hidden_size], rnn1_out[:, 0, self.hidden_size:]], dim=1) \n",
        "        rnn1_out_final = rnn1_out_final.index_select(0, idx_unsort1)\n",
        "        \n",
        "        # run sentence 2 \n",
        "        _, idx_sort2 = torch.sort(x2_lengths, dim=0, descending=True)\n",
        "        _, idx_unsort2 = torch.sort(idx_sort2, dim=0)\n",
        "        x2, x2_lengths = x2.index_select(0, idx_sort2), x2_lengths.index_select(0, idx_sort2)\n",
        "        embed2 = self.embedding2(x2)\n",
        "        embed2 = torch.nn.utils.rnn.pack_padded_sequence(embed2, x2_lengths, batch_first=True)\n",
        "        self.hidden2 = self.init_hidden(batch_size).to(device)\n",
        "        rnn2_out, self.hidden2 = self.rnn2(embed2, self.hidden2)\n",
        "        rnn2_out, _ = torch.nn.utils.rnn.pad_packed_sequence(rnn2_out, batch_first=True)\n",
        "        rnn2_out_final = torch.cat([rnn2_out[:, -1, :self.hidden_size], rnn2_out[:, 0, self.hidden_size:]], dim=1) \n",
        "        rnn2_out_final = rnn2_out_final.index_select(0, idx_unsort2)\n",
        "\n",
        "        # concat outputs from both RNNs and run them through FC layers \n",
        "        combined = torch.cat([rnn1_out_final, rnn2_out_final], dim=1)\n",
        "        if self.dropout_fc is not None: \n",
        "            combined = nn.Dropout(p=self.dropout_fc)(combined)\n",
        "        output = F.relu(self.fc1(combined))\n",
        "        logits = self.fc2(output) \n",
        "\n",
        "        return logits"
      ],
      "execution_count": null,
      "outputs": []
    },
    {
      "cell_type": "markdown",
      "metadata": {
        "id": "cICCbPvoJn6d"
      },
      "source": [
        "## CNN"
      ]
    },
    {
      "cell_type": "code",
      "metadata": {
        "id": "YOYGA0WXGa01"
      },
      "source": [
        "# 2-layer 1D CNN with ReLU activations \n",
        "\n",
        "class CNN(nn.Module):\n",
        "    def __init__(self, emb_size, hidden_size, num_layers, fc_out_size, num_classes, pretrained_weights, \n",
        "                 kernel_size, dropout_fc=None):\n",
        "\n",
        "        super(CNN, self).__init__()\n",
        "\n",
        "        self.num_layers, self.hidden_size, self.dropout_fc = num_layers, hidden_size, dropout_fc\n",
        "        \n",
        "        self.embedding1 = nn.Embedding.from_pretrained(pretrained_weights, freeze=True)\n",
        "        self.conv11 = nn.Conv1d(emb_size, hidden_size, kernel_size=kernel_size, padding=int((kernel_size-1)/2)) #, padding=1)\n",
        "        self.conv12 = nn.Conv1d(hidden_size, hidden_size, kernel_size=kernel_size, padding=int((kernel_size-1)/2)) #, padding=1)\n",
        "        \n",
        "        self.embedding2 = nn.Embedding.from_pretrained(pretrained_weights, freeze=True)\n",
        "        self.conv21 = nn.Conv1d(emb_size, hidden_size, kernel_size=kernel_size, padding=int((kernel_size-1)/2)) #, padding=1)\n",
        "        self.conv22 = nn.Conv1d(hidden_size, hidden_size, kernel_size=kernel_size, padding=int((kernel_size-1)/2)) #, padding=1)    \n",
        "        \n",
        "        self.fc1 = nn.Linear(2*hidden_size, fc_out_size)\n",
        "        self.fc2 = nn.Linear(fc_out_size, num_classes)\n",
        "\n",
        "    def forward(self, x1, x2, x1_lengths, x2_lengths):\n",
        "        batch_size, seq_len = x1.size()\n",
        "\n",
        "        embed1 = self.embedding1(x1)\n",
        "        hidden1 = self.conv11(embed1.transpose(1,2)).transpose(1,2)\n",
        "        hidden1 = self.conv12(hidden1.transpose(1,2)).transpose(1,2)\n",
        "        hidden1 = F.leaky_relu(hidden1.contiguous().view(-1, hidden1.size(-1))).view(batch_size, seq_len, hidden1.size(-1))\n",
        "        hidden1 = torch.max(hidden1, dim=1)[0]\n",
        "\n",
        "        embed2 = self.embedding2(x2)\n",
        "        hidden2 = self.conv21(embed2.transpose(1,2)).transpose(1,2)\n",
        "        hidden2 = self.conv22(hidden2.transpose(1,2)).transpose(1,2)\n",
        "        hidden2 = F.leaky_relu(hidden2.contiguous().view(-1, hidden2.size(-1))).view(batch_size, seq_len, hidden2.size(-1))\n",
        "        hidden2 = torch.max(hidden2, dim=1)[0]\n",
        "        \n",
        "        # concat outputs from both RNNs and run them through FC layers \n",
        "        combined = torch.cat([hidden1, hidden2], dim=1)\n",
        "        if self.dropout_fc is not None: \n",
        "            combined = nn.Dropout(p=self.dropout_fc)(combined)\n",
        "        output = F.relu(self.fc1(combined))\n",
        "        logits = self.fc2(output) \n",
        "        \n",
        "        return logits"
      ],
      "execution_count": null,
      "outputs": []
    },
    {
      "cell_type": "markdown",
      "metadata": {
        "id": "P7hbFXy6J3GX"
      },
      "source": [
        "# Model Training"
      ]
    },
    {
      "cell_type": "code",
      "metadata": {
        "id": "yGB2nRZAGbTI"
      },
      "source": [
        "# helper functions to train and test model - save model if best  \n",
        "\n",
        "def test_model(loader, model): \n",
        "    \"\"\" \n",
        "    Helper function that tests the model's performance on a given dataset \n",
        "    @param: loader = data loader for the dataset to test against \n",
        "    \"\"\"\n",
        "    correct = 0 \n",
        "    total = 0 \n",
        "    model.eval() \n",
        "    all_predictions = [] \n",
        "    all_labels = [] \n",
        "    \n",
        "    for sent1s, sent2s, sent1_lens, sent2_lens, labels in loader: \n",
        "        sent1s, sent2s, sent1_lens, sent2_lens, labels = sent1s.to(device), sent2s.to(device), sent1_lens.to(device), sent2_lens.to(device), labels.to(device)\n",
        "        outputs = F.softmax(model(sent1s, sent2s, sent1_lens, sent2_lens), dim=1)\n",
        "        predictions = outputs.max(1, keepdim=True)[1]    \n",
        "        total += labels.size(0)\n",
        "        correct += predictions.eq(labels.view_as(predictions)).sum().item()\n",
        "        all_predictions += list(predictions.flatten()) \n",
        "        all_labels += list(labels.flatten())\n",
        "        \n",
        "    return (100 * correct / total), all_predictions, all_labels \n",
        "\n",
        "\n",
        "def train_and_eval(model, train_loader, val_loader, num_epochs, learning_rate, print_intermediate=True, \n",
        "                   save_checkpoint=False, model_name='default'):  \n",
        "    \"\"\"\n",
        "    Trains model on data from train_loader and evaluates on data from val_loader for num_epochs \n",
        "    Returns results as a dictionary comprising epoch, train accuracy, and validation accuracy \n",
        "    \"\"\"\n",
        "    # train and validate \n",
        "    criterion = torch.nn.CrossEntropyLoss()\n",
        "    optimizer = torch.optim.Adam(model.parameters(), lr=learning_rate)\n",
        "    \n",
        "    results = []\n",
        "    for epoch in range(num_epochs):\n",
        "        for i, (sent1s, sent2s, sent1_lens, sent2_lens, labels) in enumerate(train_loader):\n",
        "            model.to(device)\n",
        "            model.train()\n",
        "            optimizer.zero_grad()\n",
        "            sent1s, sent2s, sent1_lens, sent2_lens, labels = sent1s.to(device), sent2s.to(device), sent1_lens.to(device), sent2_lens.to(device), labels.to(device)\n",
        "            outputs = model(sent1s, sent2s, sent1_lens, sent2_lens)\n",
        "            loss = criterion(outputs, labels)\n",
        "            loss.backward()\n",
        "            optimizer.step()\n",
        "            # validate every 100 iterations\n",
        "            if i % 100 == 0 or ((epoch==num_epochs-1) & (i==len(train_loader)-1)):\n",
        "                result = {} \n",
        "                result['epoch'] = epoch + i / len(train_loader)\n",
        "                result['train_acc'], _, _ = test_model(train_loader, model)\n",
        "                result['val_acc'], _, _ = test_model(val_loader, model)       \n",
        "                results.append(result)\n",
        "\n",
        "                if save_checkpoint: \n",
        "                    if result['val_acc'] == pd.DataFrame.from_dict(results)['val_acc'].max(): \n",
        "                        checkpoint_fp = 'model_checkpoints/{}.pth.tar'.format(model_name)\n",
        "                        torch.save(model.state_dict(), checkpoint_fp)\n",
        "                \n",
        "                if print_intermediate: \n",
        "                    print('Epoch: {:.2f}, Train Accuracy: {:.2f}%, Validation Accuracy: {:.2f}%'.format(\n",
        "                        result['epoch'], result['train_acc'], result['val_acc']))\n",
        "    return results"
      ],
      "execution_count": null,
      "outputs": []
    },
    {
      "cell_type": "code",
      "metadata": {
        "id": "Ic9Gfh2RGbBy"
      },
      "source": [
        "# helper functions to save results to and load results from a pkl logfile \n",
        "\n",
        "RESULTS_LOG = 'experiment_results/experiment_results_log_v4_gcp.pkl'\n",
        "\n",
        "def append_to_log(hyperparams, results, runtime, experiment_name, filename=RESULTS_LOG): \n",
        "    \"\"\" Appends results and details of a single experiment to a log file \"\"\"\n",
        "    \n",
        "    # create directory if doesn't already exist \n",
        "    if not os.path.exists(os.path.dirname(filename)):\n",
        "        os.makedirs(os.path.dirname(filename))\n",
        "        \n",
        "    # store experiment details in a dictionary \n",
        "    new_result = {'experiment_name': experiment_name, 'hyperparams': hyperparams, 'results': results, \n",
        "                  'runtime': runtime, 'dt_created': datetime.now().strftime('%Y-%m-%d %H:%M:%S')}\n",
        "    \n",
        "    # if log already exists, append to log \n",
        "    try: \n",
        "        results_log = pkl.load(open(filename, \"rb\"))\n",
        "        results_log.append(new_result)\n",
        "\n",
        "    # if log doesn't exists, initialize first result as the log \n",
        "    except (OSError, IOError) as e:\n",
        "        results_log = [new_result]\n",
        "    \n",
        "    # save to pickle \n",
        "    pkl.dump(results_log, open(filename, \"wb\"))"
      ],
      "execution_count": null,
      "outputs": []
    },
    {
      "cell_type": "code",
      "metadata": {
        "id": "Fru-gve5GaVR"
      },
      "source": [
        "def load_experiment_log(experiment_name=None, filename=RESULTS_LOG): \n",
        "    \"\"\" Loads experiment log, with option to filter for a specific experiment_name \"\"\"\n",
        "    \n",
        "    results_log = pkl.load(open(filename, \"rb\"))\n",
        "    \n",
        "    if experiment_name is not None: \n",
        "        results_log = [r for r in results_log if r['experiment_name'] == experiment_name]\n",
        "        \n",
        "    return results_log"
      ],
      "execution_count": null,
      "outputs": []
    },
    {
      "cell_type": "code",
      "metadata": {
        "id": "x-Nnm4NnGZ4A"
      },
      "source": [
        "# with dropout \n",
        "\n",
        "def run_experiment(train_loader, val_loader, model_type, hidden_size, fc_out_size, \n",
        "                   learning_rate, num_epochs, dropout_fc=None, experiment_name='Not_Specified', kernel_size=None, \n",
        "                   save_to_log=True, save_checkpoint=False, print_summary=True, print_intermediate=True):  \n",
        "    \n",
        "    \"\"\" Wraps all processing, training and evaluation steps in a function to facilitate hyperparam tuning. \n",
        "        Note that the function takes as input tokenized data rather than raw data since there's significant \n",
        "        lag time in generating tokens.  \n",
        "    \"\"\"\n",
        "    \n",
        "    start_time = time.time() \n",
        "    \n",
        "    # instantiate model and optimizer \n",
        "    if model_type == 'rnn': \n",
        "        model = rnn_model(emb_size=300, hidden_size=hidden_size, num_layers=1, fc_out_size=fc_out_size, \n",
        "                          num_classes=3, pretrained_weights=pretrained_weights, dropout_fc=dropout_fc)\n",
        "    elif model_type == 'cnn': \n",
        "        model = CNN(emb_size=300, hidden_size=hidden_size, num_layers=2, fc_out_size=fc_out_size, \n",
        "                    num_classes=3, pretrained_weights=pretrained_weights, dropout_fc=dropout_fc, \n",
        "                    kernel_size=kernel_size)\n",
        "    else: \n",
        "        raise ValueError(\"Invalid model_type. Must be either 'cnn' or 'rnn'\")\n",
        "        \n",
        "    # train and evaluate \n",
        "    results = train_and_eval(model, train_loader, val_loader, num_epochs, learning_rate, \n",
        "                             print_intermediate=print_intermediate, save_checkpoint=save_checkpoint, \n",
        "                             model_name=experiment_name)\n",
        "    \n",
        "    # store, print, and save results \n",
        "    runtime = time.time() - start_time \n",
        "    hyperparams = {'model_type': model_type, 'hidden_size': hidden_size, 'fc_out_size': fc_out_size, \n",
        "                   'kernel_size': kernel_size, 'learning_rate': learning_rate, 'num_epochs': num_epochs, \n",
        "                   'dropout_fc': dropout_fc}\n",
        "    if save_to_log: \n",
        "        append_to_log(hyperparams, results, runtime, experiment_name)\n",
        "    if print_summary: \n",
        "        print(\"Experiment completed in {} seconds with {}% validation accuracy.\".format(\n",
        "            int(runtime), pd.DataFrame.from_dict(results)['val_acc'].max()))\n",
        "        \n",
        "    return results, hyperparams, runtime, model, train_loader, val_loader"
      ],
      "execution_count": null,
      "outputs": []
    },
    {
      "cell_type": "code",
      "metadata": {
        "id": "8gI5ThhBGZg7"
      },
      "source": [
        "# helper methods to summarize, evaluate, and plot results \n",
        "\n",
        "def summarize_results(results_log): \n",
        "    \"\"\" Summarizes results_log (list) into a dataframe, splitting hyperparameters string into columns, and reducing \n",
        "        the val_acc dict into the best validation accuracy obtained amongst all the epochs logged \"\"\"\n",
        "    results_df = pd.DataFrame.from_dict(results_log)\n",
        "    results_df = pd.concat([results_df, results_df['hyperparams'].apply(pd.Series)], axis=1)\n",
        "    results_df['val_acc'] = results_df['results'].apply(lambda d: pd.DataFrame.from_dict(d)['val_acc'].max())\n",
        "    return results_df.sort_values(by='val_acc', ascending=False) \n",
        "\n",
        "def plot_multiple_learning_curves(results_df, plot_variable, figsize=(8, 5), legend_loc='best'):\n",
        "    \"\"\" Plots learning curves of MULTIPLE experiments, includes only validation accuracy \"\"\"\n",
        "    plt.figure(figsize=figsize)\n",
        "    for index, row in results_df.iterrows():\n",
        "        val_acc_hist = pd.DataFrame.from_dict(row['results']).set_index('epoch')['val_acc'] \n",
        "        plt.plot(val_acc_hist, label=\"{} ({}%)\".format(row[plot_variable], val_acc_hist.max()))\n",
        "    plt.legend(title=plot_variable, loc=legend_loc)    \n",
        "    plt.ylabel('Validation Accuracy')\n",
        "    plt.xlabel('Epoch')\n",
        "\n",
        "def plot_single_learning_curve(results, figsize=(8, 5)): \n",
        "    \"\"\" Plots learning curve of a SINGLE experiment, includes both train and validation accuracy \"\"\"\n",
        "    results_df = pd.DataFrame.from_dict(results)\n",
        "    results_df = results_df.set_index('epoch')\n",
        "    results_df.plot(figsize=figsize)\n",
        "    plt.ylabel('Validation Accuracy')\n",
        "    plt.xlabel('Epoch')"
      ],
      "execution_count": null,
      "outputs": []
    },
    {
      "cell_type": "code",
      "metadata": {
        "id": "nkebTZOSGZNM"
      },
      "source": [
        "# helper function to count parameters \n",
        "def count_parameters(model): \n",
        "    all_params = sum(p.numel() for p in model.parameters())\n",
        "    trainable_params = sum(p.numel() for p in model.parameters() if p.requires_grad)\n",
        "    return all_params, trainable_params"
      ],
      "execution_count": null,
      "outputs": []
    },
    {
      "cell_type": "markdown",
      "metadata": {
        "id": "pDQqG-fYKrhy"
      },
      "source": [
        "## Train RNN"
      ]
    },
    {
      "cell_type": "markdown",
      "metadata": {
        "id": "NAy1ikvwK0yY"
      },
      "source": [
        "### Tune hidden_size and fc_out_size together"
      ]
    },
    {
      "cell_type": "code",
      "metadata": {
        "id": "WJkW09wlGY57",
        "outputId": "d6d18265-b563-45ea-95b7-220c341dd125",
        "colab": {
          "base_uri": "https://localhost:8080/"
        }
      },
      "source": [
        "# test various combos of hidden size and fc out size \n",
        "\n",
        "hidden_sizes = [10, 25, 50, 100, 200]\n",
        "fc_out_sizes = [100, 200, 300, 500, 750]\n",
        "\n",
        "for hidden_size in hidden_sizes: \n",
        "    for fc_out_size in fc_out_sizes: \n",
        "        print (\"Training with hidden_size = {} and fc_out_size = {} ...\".format(hidden_size, fc_out_size))\n",
        "    \n",
        "        # train and evaluate\n",
        "        results, hyperparams, runtime, _, _, _ = run_experiment(\n",
        "            train_loader=snli_train_loader, val_loader=snli_val_loader,\n",
        "            model_type='rnn', hidden_size=hidden_size, fc_out_size=fc_out_size, kernel_size=None, \n",
        "            learning_rate=0.001, num_epochs=1, experiment_name='RNN_hidden_fc_out_10epoch', \n",
        "            save_to_log=True, save_checkpoint=False, print_summary=True, print_intermediate=True)"
      ],
      "execution_count": null,
      "outputs": [
        {
          "output_type": "stream",
          "text": [
            "Training with hidden_size = 10 and fc_out_size = 100 ...\n",
            "Epoch: 0.00, Train Accuracy: 34.13%, Validation Accuracy: 34.40%\n",
            "Epoch: 0.06, Train Accuracy: 39.00%, Validation Accuracy: 38.10%\n",
            "Epoch: 0.13, Train Accuracy: 41.66%, Validation Accuracy: 40.70%\n",
            "Epoch: 0.19, Train Accuracy: 45.15%, Validation Accuracy: 44.40%\n",
            "Epoch: 0.26, Train Accuracy: 46.74%, Validation Accuracy: 47.30%\n",
            "Epoch: 0.32, Train Accuracy: 48.91%, Validation Accuracy: 49.00%\n",
            "Epoch: 0.38, Train Accuracy: 50.53%, Validation Accuracy: 51.20%\n",
            "Epoch: 0.45, Train Accuracy: 52.78%, Validation Accuracy: 53.80%\n",
            "Epoch: 0.51, Train Accuracy: 53.97%, Validation Accuracy: 55.30%\n",
            "Epoch: 0.58, Train Accuracy: 54.24%, Validation Accuracy: 54.70%\n",
            "Epoch: 0.64, Train Accuracy: 55.38%, Validation Accuracy: 56.90%\n",
            "Epoch: 0.70, Train Accuracy: 55.08%, Validation Accuracy: 54.80%\n",
            "Epoch: 0.77, Train Accuracy: 56.54%, Validation Accuracy: 56.40%\n",
            "Epoch: 0.83, Train Accuracy: 56.79%, Validation Accuracy: 57.50%\n",
            "Epoch: 0.90, Train Accuracy: 57.04%, Validation Accuracy: 56.90%\n",
            "Epoch: 0.96, Train Accuracy: 57.52%, Validation Accuracy: 57.40%\n",
            "Epoch: 1.00, Train Accuracy: 57.51%, Validation Accuracy: 56.20%\n",
            "Experiment completed in 523 seconds with 57.5% validation accuracy.\n",
            "Training with hidden_size = 10 and fc_out_size = 200 ...\n",
            "Epoch: 0.00, Train Accuracy: 33.09%, Validation Accuracy: 32.40%\n",
            "Epoch: 0.06, Train Accuracy: 38.52%, Validation Accuracy: 37.80%\n",
            "Epoch: 0.13, Train Accuracy: 41.33%, Validation Accuracy: 39.30%\n",
            "Epoch: 0.19, Train Accuracy: 47.27%, Validation Accuracy: 46.10%\n",
            "Epoch: 0.26, Train Accuracy: 49.90%, Validation Accuracy: 50.30%\n",
            "Epoch: 0.32, Train Accuracy: 50.76%, Validation Accuracy: 49.50%\n",
            "Epoch: 0.38, Train Accuracy: 52.27%, Validation Accuracy: 51.80%\n",
            "Epoch: 0.45, Train Accuracy: 53.75%, Validation Accuracy: 53.00%\n",
            "Epoch: 0.51, Train Accuracy: 54.53%, Validation Accuracy: 54.90%\n",
            "Epoch: 0.58, Train Accuracy: 54.78%, Validation Accuracy: 53.70%\n",
            "Epoch: 0.64, Train Accuracy: 55.53%, Validation Accuracy: 55.40%\n",
            "Epoch: 0.70, Train Accuracy: 55.58%, Validation Accuracy: 54.50%\n",
            "Epoch: 0.77, Train Accuracy: 56.59%, Validation Accuracy: 57.10%\n",
            "Epoch: 0.83, Train Accuracy: 56.97%, Validation Accuracy: 56.30%\n",
            "Epoch: 0.90, Train Accuracy: 57.12%, Validation Accuracy: 56.50%\n",
            "Epoch: 0.96, Train Accuracy: 57.65%, Validation Accuracy: 57.80%\n",
            "Epoch: 1.00, Train Accuracy: 57.34%, Validation Accuracy: 56.80%\n",
            "Experiment completed in 526 seconds with 57.8% validation accuracy.\n",
            "Training with hidden_size = 10 and fc_out_size = 300 ...\n",
            "Epoch: 0.00, Train Accuracy: 33.40%, Validation Accuracy: 32.80%\n",
            "Epoch: 0.06, Train Accuracy: 39.38%, Validation Accuracy: 37.50%\n",
            "Epoch: 0.13, Train Accuracy: 42.55%, Validation Accuracy: 40.30%\n",
            "Epoch: 0.19, Train Accuracy: 46.29%, Validation Accuracy: 45.70%\n",
            "Epoch: 0.26, Train Accuracy: 48.04%, Validation Accuracy: 45.90%\n",
            "Epoch: 0.32, Train Accuracy: 49.47%, Validation Accuracy: 48.40%\n",
            "Epoch: 0.38, Train Accuracy: 50.94%, Validation Accuracy: 50.90%\n",
            "Epoch: 0.45, Train Accuracy: 52.41%, Validation Accuracy: 52.70%\n",
            "Epoch: 0.51, Train Accuracy: 53.77%, Validation Accuracy: 53.60%\n",
            "Epoch: 0.58, Train Accuracy: 53.70%, Validation Accuracy: 52.30%\n",
            "Epoch: 0.64, Train Accuracy: 55.13%, Validation Accuracy: 54.50%\n",
            "Epoch: 0.70, Train Accuracy: 54.85%, Validation Accuracy: 55.50%\n",
            "Epoch: 0.77, Train Accuracy: 56.16%, Validation Accuracy: 56.30%\n",
            "Epoch: 0.83, Train Accuracy: 56.60%, Validation Accuracy: 56.90%\n",
            "Epoch: 0.90, Train Accuracy: 56.78%, Validation Accuracy: 57.90%\n",
            "Epoch: 0.96, Train Accuracy: 57.28%, Validation Accuracy: 56.60%\n",
            "Epoch: 1.00, Train Accuracy: 57.19%, Validation Accuracy: 54.70%\n",
            "Experiment completed in 531 seconds with 57.9% validation accuracy.\n",
            "Training with hidden_size = 10 and fc_out_size = 500 ...\n",
            "Epoch: 0.00, Train Accuracy: 33.38%, Validation Accuracy: 36.20%\n",
            "Epoch: 0.06, Train Accuracy: 39.91%, Validation Accuracy: 39.20%\n",
            "Epoch: 0.13, Train Accuracy: 42.30%, Validation Accuracy: 41.40%\n",
            "Epoch: 0.19, Train Accuracy: 46.12%, Validation Accuracy: 45.00%\n",
            "Epoch: 0.26, Train Accuracy: 49.30%, Validation Accuracy: 48.70%\n",
            "Epoch: 0.32, Train Accuracy: 50.93%, Validation Accuracy: 51.80%\n",
            "Epoch: 0.38, Train Accuracy: 51.53%, Validation Accuracy: 51.60%\n",
            "Epoch: 0.45, Train Accuracy: 53.51%, Validation Accuracy: 52.70%\n",
            "Epoch: 0.51, Train Accuracy: 54.36%, Validation Accuracy: 54.20%\n",
            "Epoch: 0.58, Train Accuracy: 54.52%, Validation Accuracy: 52.60%\n",
            "Epoch: 0.64, Train Accuracy: 55.63%, Validation Accuracy: 55.00%\n",
            "Epoch: 0.70, Train Accuracy: 55.46%, Validation Accuracy: 54.70%\n",
            "Epoch: 0.77, Train Accuracy: 56.66%, Validation Accuracy: 57.50%\n",
            "Epoch: 0.83, Train Accuracy: 57.12%, Validation Accuracy: 55.50%\n",
            "Epoch: 0.90, Train Accuracy: 57.27%, Validation Accuracy: 55.90%\n",
            "Epoch: 0.96, Train Accuracy: 57.87%, Validation Accuracy: 56.90%\n",
            "Epoch: 1.00, Train Accuracy: 57.64%, Validation Accuracy: 55.60%\n",
            "Experiment completed in 532 seconds with 57.5% validation accuracy.\n",
            "Training with hidden_size = 10 and fc_out_size = 750 ...\n",
            "Epoch: 0.00, Train Accuracy: 33.28%, Validation Accuracy: 34.10%\n",
            "Epoch: 0.06, Train Accuracy: 40.50%, Validation Accuracy: 38.40%\n",
            "Epoch: 0.13, Train Accuracy: 43.88%, Validation Accuracy: 42.60%\n",
            "Epoch: 0.19, Train Accuracy: 47.15%, Validation Accuracy: 47.50%\n",
            "Epoch: 0.26, Train Accuracy: 49.62%, Validation Accuracy: 50.80%\n",
            "Epoch: 0.32, Train Accuracy: 50.72%, Validation Accuracy: 52.10%\n",
            "Epoch: 0.38, Train Accuracy: 51.85%, Validation Accuracy: 50.70%\n",
            "Epoch: 0.45, Train Accuracy: 52.95%, Validation Accuracy: 53.80%\n",
            "Epoch: 0.51, Train Accuracy: 53.91%, Validation Accuracy: 54.80%\n",
            "Epoch: 0.58, Train Accuracy: 54.31%, Validation Accuracy: 52.70%\n",
            "Epoch: 0.64, Train Accuracy: 54.87%, Validation Accuracy: 55.90%\n",
            "Epoch: 0.70, Train Accuracy: 54.74%, Validation Accuracy: 56.30%\n",
            "Epoch: 0.77, Train Accuracy: 55.82%, Validation Accuracy: 55.50%\n",
            "Epoch: 0.83, Train Accuracy: 56.46%, Validation Accuracy: 55.70%\n",
            "Epoch: 0.90, Train Accuracy: 56.58%, Validation Accuracy: 57.40%\n",
            "Epoch: 0.96, Train Accuracy: 57.08%, Validation Accuracy: 57.30%\n",
            "Epoch: 1.00, Train Accuracy: 56.92%, Validation Accuracy: 56.40%\n",
            "Experiment completed in 535 seconds with 57.4% validation accuracy.\n",
            "Training with hidden_size = 25 and fc_out_size = 100 ...\n",
            "Epoch: 0.00, Train Accuracy: 33.55%, Validation Accuracy: 31.80%\n",
            "Epoch: 0.06, Train Accuracy: 41.17%, Validation Accuracy: 40.50%\n",
            "Epoch: 0.13, Train Accuracy: 47.34%, Validation Accuracy: 46.70%\n",
            "Epoch: 0.19, Train Accuracy: 51.22%, Validation Accuracy: 51.80%\n",
            "Epoch: 0.26, Train Accuracy: 52.87%, Validation Accuracy: 52.00%\n",
            "Epoch: 0.32, Train Accuracy: 53.75%, Validation Accuracy: 53.10%\n",
            "Epoch: 0.38, Train Accuracy: 54.52%, Validation Accuracy: 53.90%\n",
            "Epoch: 0.45, Train Accuracy: 55.67%, Validation Accuracy: 55.80%\n",
            "Epoch: 0.51, Train Accuracy: 56.35%, Validation Accuracy: 56.70%\n",
            "Epoch: 0.58, Train Accuracy: 56.46%, Validation Accuracy: 56.20%\n",
            "Epoch: 0.64, Train Accuracy: 57.42%, Validation Accuracy: 58.00%\n",
            "Epoch: 0.70, Train Accuracy: 57.38%, Validation Accuracy: 56.90%\n",
            "Epoch: 0.77, Train Accuracy: 58.36%, Validation Accuracy: 56.90%\n",
            "Epoch: 0.83, Train Accuracy: 58.85%, Validation Accuracy: 56.40%\n",
            "Epoch: 0.90, Train Accuracy: 59.00%, Validation Accuracy: 56.70%\n",
            "Epoch: 0.96, Train Accuracy: 59.13%, Validation Accuracy: 58.90%\n",
            "Epoch: 1.00, Train Accuracy: 59.11%, Validation Accuracy: 58.00%\n",
            "Experiment completed in 685 seconds with 58.9% validation accuracy.\n",
            "Training with hidden_size = 25 and fc_out_size = 200 ...\n",
            "Epoch: 0.00, Train Accuracy: 33.64%, Validation Accuracy: 33.10%\n",
            "Epoch: 0.06, Train Accuracy: 41.26%, Validation Accuracy: 40.30%\n",
            "Epoch: 0.13, Train Accuracy: 45.62%, Validation Accuracy: 45.50%\n",
            "Epoch: 0.19, Train Accuracy: 49.78%, Validation Accuracy: 49.30%\n",
            "Epoch: 0.26, Train Accuracy: 51.99%, Validation Accuracy: 50.50%\n",
            "Epoch: 0.32, Train Accuracy: 53.50%, Validation Accuracy: 53.70%\n",
            "Epoch: 0.38, Train Accuracy: 54.29%, Validation Accuracy: 54.00%\n",
            "Epoch: 0.45, Train Accuracy: 55.18%, Validation Accuracy: 54.30%\n",
            "Epoch: 0.51, Train Accuracy: 56.42%, Validation Accuracy: 55.80%\n",
            "Epoch: 0.58, Train Accuracy: 56.14%, Validation Accuracy: 54.20%\n",
            "Epoch: 0.64, Train Accuracy: 57.41%, Validation Accuracy: 57.70%\n",
            "Epoch: 0.70, Train Accuracy: 57.69%, Validation Accuracy: 57.10%\n",
            "Epoch: 0.77, Train Accuracy: 58.36%, Validation Accuracy: 57.20%\n",
            "Epoch: 0.83, Train Accuracy: 58.67%, Validation Accuracy: 58.00%\n",
            "Epoch: 0.90, Train Accuracy: 58.92%, Validation Accuracy: 58.60%\n",
            "Epoch: 0.96, Train Accuracy: 58.79%, Validation Accuracy: 56.90%\n",
            "Epoch: 1.00, Train Accuracy: 59.41%, Validation Accuracy: 58.30%\n",
            "Experiment completed in 684 seconds with 58.6% validation accuracy.\n",
            "Training with hidden_size = 25 and fc_out_size = 300 ...\n",
            "Epoch: 0.00, Train Accuracy: 33.99%, Validation Accuracy: 33.00%\n",
            "Epoch: 0.06, Train Accuracy: 41.75%, Validation Accuracy: 40.80%\n",
            "Epoch: 0.13, Train Accuracy: 46.44%, Validation Accuracy: 46.60%\n",
            "Epoch: 0.19, Train Accuracy: 49.51%, Validation Accuracy: 49.10%\n",
            "Epoch: 0.26, Train Accuracy: 51.95%, Validation Accuracy: 52.80%\n",
            "Epoch: 0.32, Train Accuracy: 52.94%, Validation Accuracy: 53.70%\n",
            "Epoch: 0.38, Train Accuracy: 54.43%, Validation Accuracy: 54.70%\n",
            "Epoch: 0.45, Train Accuracy: 55.28%, Validation Accuracy: 53.90%\n",
            "Epoch: 0.51, Train Accuracy: 56.40%, Validation Accuracy: 55.50%\n",
            "Epoch: 0.58, Train Accuracy: 56.34%, Validation Accuracy: 55.90%\n",
            "Epoch: 0.64, Train Accuracy: 57.33%, Validation Accuracy: 57.50%\n",
            "Epoch: 0.70, Train Accuracy: 57.21%, Validation Accuracy: 56.80%\n",
            "Epoch: 0.77, Train Accuracy: 58.05%, Validation Accuracy: 57.50%\n",
            "Epoch: 0.83, Train Accuracy: 58.72%, Validation Accuracy: 58.00%\n",
            "Epoch: 0.90, Train Accuracy: 59.03%, Validation Accuracy: 58.00%\n",
            "Epoch: 0.96, Train Accuracy: 59.15%, Validation Accuracy: 58.20%\n",
            "Epoch: 1.00, Train Accuracy: 59.01%, Validation Accuracy: 58.40%\n",
            "Experiment completed in 684 seconds with 58.4% validation accuracy.\n",
            "Training with hidden_size = 25 and fc_out_size = 500 ...\n",
            "Epoch: 0.00, Train Accuracy: 33.47%, Validation Accuracy: 31.80%\n",
            "Epoch: 0.06, Train Accuracy: 41.60%, Validation Accuracy: 39.40%\n",
            "Epoch: 0.13, Train Accuracy: 47.43%, Validation Accuracy: 46.00%\n",
            "Epoch: 0.19, Train Accuracy: 51.34%, Validation Accuracy: 50.20%\n",
            "Epoch: 0.26, Train Accuracy: 52.48%, Validation Accuracy: 51.70%\n",
            "Epoch: 0.32, Train Accuracy: 53.88%, Validation Accuracy: 55.10%\n",
            "Epoch: 0.38, Train Accuracy: 54.22%, Validation Accuracy: 53.40%\n",
            "Epoch: 0.45, Train Accuracy: 55.50%, Validation Accuracy: 55.70%\n",
            "Epoch: 0.51, Train Accuracy: 56.12%, Validation Accuracy: 55.50%\n",
            "Epoch: 0.58, Train Accuracy: 56.29%, Validation Accuracy: 56.90%\n",
            "Epoch: 0.64, Train Accuracy: 57.57%, Validation Accuracy: 58.30%\n",
            "Epoch: 0.70, Train Accuracy: 57.48%, Validation Accuracy: 56.70%\n",
            "Epoch: 0.77, Train Accuracy: 58.52%, Validation Accuracy: 58.00%\n",
            "Epoch: 0.83, Train Accuracy: 58.22%, Validation Accuracy: 57.80%\n",
            "Epoch: 0.90, Train Accuracy: 59.13%, Validation Accuracy: 58.80%\n",
            "Epoch: 0.96, Train Accuracy: 59.13%, Validation Accuracy: 59.20%\n",
            "Epoch: 1.00, Train Accuracy: 59.15%, Validation Accuracy: 58.30%\n",
            "Experiment completed in 691 seconds with 59.2% validation accuracy.\n",
            "Training with hidden_size = 25 and fc_out_size = 750 ...\n",
            "Epoch: 0.00, Train Accuracy: 33.67%, Validation Accuracy: 32.60%\n",
            "Epoch: 0.06, Train Accuracy: 41.84%, Validation Accuracy: 42.30%\n",
            "Epoch: 0.13, Train Accuracy: 47.41%, Validation Accuracy: 47.40%\n",
            "Epoch: 0.19, Train Accuracy: 50.42%, Validation Accuracy: 50.30%\n",
            "Epoch: 0.26, Train Accuracy: 51.18%, Validation Accuracy: 49.20%\n",
            "Epoch: 0.32, Train Accuracy: 52.85%, Validation Accuracy: 51.90%\n",
            "Epoch: 0.38, Train Accuracy: 54.24%, Validation Accuracy: 53.00%\n",
            "Epoch: 0.45, Train Accuracy: 55.28%, Validation Accuracy: 54.40%\n",
            "Epoch: 0.51, Train Accuracy: 55.77%, Validation Accuracy: 55.60%\n",
            "Epoch: 0.58, Train Accuracy: 56.36%, Validation Accuracy: 55.40%\n",
            "Epoch: 0.64, Train Accuracy: 57.32%, Validation Accuracy: 57.90%\n",
            "Epoch: 0.70, Train Accuracy: 57.47%, Validation Accuracy: 56.20%\n",
            "Epoch: 0.77, Train Accuracy: 58.01%, Validation Accuracy: 57.00%\n",
            "Epoch: 0.83, Train Accuracy: 58.54%, Validation Accuracy: 57.00%\n",
            "Epoch: 0.90, Train Accuracy: 58.94%, Validation Accuracy: 58.60%\n",
            "Epoch: 0.96, Train Accuracy: 58.63%, Validation Accuracy: 59.00%\n",
            "Epoch: 1.00, Train Accuracy: 59.26%, Validation Accuracy: 58.80%\n",
            "Experiment completed in 693 seconds with 59.0% validation accuracy.\n",
            "Training with hidden_size = 50 and fc_out_size = 100 ...\n",
            "Epoch: 0.00, Train Accuracy: 34.11%, Validation Accuracy: 34.80%\n",
            "Epoch: 0.06, Train Accuracy: 42.32%, Validation Accuracy: 42.30%\n",
            "Epoch: 0.13, Train Accuracy: 48.38%, Validation Accuracy: 49.10%\n",
            "Epoch: 0.19, Train Accuracy: 52.21%, Validation Accuracy: 53.20%\n",
            "Epoch: 0.26, Train Accuracy: 53.50%, Validation Accuracy: 54.20%\n",
            "Epoch: 0.32, Train Accuracy: 54.55%, Validation Accuracy: 54.20%\n",
            "Epoch: 0.38, Train Accuracy: 54.67%, Validation Accuracy: 55.00%\n",
            "Epoch: 0.45, Train Accuracy: 56.44%, Validation Accuracy: 54.50%\n",
            "Epoch: 0.51, Train Accuracy: 56.63%, Validation Accuracy: 57.40%\n",
            "Epoch: 0.58, Train Accuracy: 57.26%, Validation Accuracy: 56.50%\n",
            "Epoch: 0.64, Train Accuracy: 57.73%, Validation Accuracy: 57.80%\n",
            "Epoch: 0.70, Train Accuracy: 58.67%, Validation Accuracy: 59.10%\n",
            "Epoch: 0.77, Train Accuracy: 58.94%, Validation Accuracy: 58.10%\n",
            "Epoch: 0.83, Train Accuracy: 59.16%, Validation Accuracy: 57.50%\n",
            "Epoch: 0.90, Train Accuracy: 59.50%, Validation Accuracy: 59.00%\n",
            "Epoch: 0.96, Train Accuracy: 59.60%, Validation Accuracy: 58.50%\n",
            "Epoch: 1.00, Train Accuracy: 59.35%, Validation Accuracy: 59.10%\n",
            "Experiment completed in 927 seconds with 59.1% validation accuracy.\n",
            "Training with hidden_size = 50 and fc_out_size = 200 ...\n",
            "Epoch: 0.00, Train Accuracy: 33.19%, Validation Accuracy: 33.90%\n",
            "Epoch: 0.06, Train Accuracy: 43.06%, Validation Accuracy: 40.80%\n",
            "Epoch: 0.13, Train Accuracy: 48.31%, Validation Accuracy: 48.50%\n",
            "Epoch: 0.19, Train Accuracy: 51.90%, Validation Accuracy: 52.20%\n",
            "Epoch: 0.26, Train Accuracy: 52.83%, Validation Accuracy: 52.70%\n",
            "Epoch: 0.32, Train Accuracy: 54.77%, Validation Accuracy: 53.20%\n",
            "Epoch: 0.38, Train Accuracy: 55.30%, Validation Accuracy: 55.50%\n",
            "Epoch: 0.45, Train Accuracy: 56.42%, Validation Accuracy: 55.60%\n",
            "Epoch: 0.51, Train Accuracy: 56.72%, Validation Accuracy: 56.10%\n",
            "Epoch: 0.58, Train Accuracy: 57.32%, Validation Accuracy: 54.40%\n",
            "Epoch: 0.64, Train Accuracy: 58.11%, Validation Accuracy: 57.70%\n",
            "Epoch: 0.70, Train Accuracy: 58.66%, Validation Accuracy: 57.50%\n",
            "Epoch: 0.77, Train Accuracy: 59.23%, Validation Accuracy: 57.80%\n",
            "Epoch: 0.83, Train Accuracy: 58.81%, Validation Accuracy: 57.10%\n",
            "Epoch: 0.90, Train Accuracy: 59.86%, Validation Accuracy: 59.00%\n",
            "Epoch: 0.96, Train Accuracy: 59.61%, Validation Accuracy: 58.50%\n",
            "Epoch: 1.00, Train Accuracy: 59.74%, Validation Accuracy: 58.60%\n",
            "Experiment completed in 924 seconds with 59.0% validation accuracy.\n",
            "Training with hidden_size = 50 and fc_out_size = 300 ...\n",
            "Epoch: 0.00, Train Accuracy: 33.94%, Validation Accuracy: 33.00%\n",
            "Epoch: 0.06, Train Accuracy: 43.08%, Validation Accuracy: 41.20%\n",
            "Epoch: 0.13, Train Accuracy: 48.39%, Validation Accuracy: 47.00%\n",
            "Epoch: 0.19, Train Accuracy: 52.37%, Validation Accuracy: 53.80%\n",
            "Epoch: 0.26, Train Accuracy: 53.29%, Validation Accuracy: 50.80%\n",
            "Epoch: 0.32, Train Accuracy: 54.39%, Validation Accuracy: 53.80%\n",
            "Epoch: 0.38, Train Accuracy: 55.28%, Validation Accuracy: 55.10%\n",
            "Epoch: 0.45, Train Accuracy: 56.63%, Validation Accuracy: 56.00%\n",
            "Epoch: 0.51, Train Accuracy: 57.23%, Validation Accuracy: 56.60%\n",
            "Epoch: 0.58, Train Accuracy: 57.35%, Validation Accuracy: 55.10%\n",
            "Epoch: 0.64, Train Accuracy: 58.03%, Validation Accuracy: 56.40%\n",
            "Epoch: 0.70, Train Accuracy: 58.63%, Validation Accuracy: 57.40%\n",
            "Epoch: 0.77, Train Accuracy: 59.10%, Validation Accuracy: 57.50%\n",
            "Epoch: 0.83, Train Accuracy: 59.22%, Validation Accuracy: 57.90%\n",
            "Epoch: 0.90, Train Accuracy: 59.66%, Validation Accuracy: 58.40%\n",
            "Epoch: 0.96, Train Accuracy: 59.55%, Validation Accuracy: 59.40%\n",
            "Epoch: 1.00, Train Accuracy: 59.44%, Validation Accuracy: 57.40%\n",
            "Experiment completed in 927 seconds with 59.4% validation accuracy.\n",
            "Training with hidden_size = 50 and fc_out_size = 500 ...\n",
            "Epoch: 0.00, Train Accuracy: 33.31%, Validation Accuracy: 32.80%\n",
            "Epoch: 0.06, Train Accuracy: 42.80%, Validation Accuracy: 40.70%\n",
            "Epoch: 0.13, Train Accuracy: 48.30%, Validation Accuracy: 47.90%\n",
            "Epoch: 0.19, Train Accuracy: 51.57%, Validation Accuracy: 53.30%\n",
            "Epoch: 0.26, Train Accuracy: 52.50%, Validation Accuracy: 51.30%\n",
            "Epoch: 0.32, Train Accuracy: 54.66%, Validation Accuracy: 54.20%\n",
            "Epoch: 0.38, Train Accuracy: 55.01%, Validation Accuracy: 54.50%\n",
            "Epoch: 0.45, Train Accuracy: 56.31%, Validation Accuracy: 55.10%\n",
            "Epoch: 0.51, Train Accuracy: 56.92%, Validation Accuracy: 57.30%\n",
            "Epoch: 0.58, Train Accuracy: 57.14%, Validation Accuracy: 56.30%\n",
            "Epoch: 0.64, Train Accuracy: 57.71%, Validation Accuracy: 56.90%\n",
            "Epoch: 0.70, Train Accuracy: 58.38%, Validation Accuracy: 57.50%\n",
            "Epoch: 0.77, Train Accuracy: 58.90%, Validation Accuracy: 56.90%\n",
            "Epoch: 0.83, Train Accuracy: 58.42%, Validation Accuracy: 56.80%\n",
            "Epoch: 0.90, Train Accuracy: 59.39%, Validation Accuracy: 59.20%\n",
            "Epoch: 0.96, Train Accuracy: 59.46%, Validation Accuracy: 56.60%\n",
            "Epoch: 1.00, Train Accuracy: 59.74%, Validation Accuracy: 58.20%\n",
            "Experiment completed in 954 seconds with 59.2% validation accuracy.\n",
            "Training with hidden_size = 50 and fc_out_size = 750 ...\n",
            "Epoch: 0.00, Train Accuracy: 34.49%, Validation Accuracy: 33.40%\n",
            "Epoch: 0.06, Train Accuracy: 43.33%, Validation Accuracy: 43.00%\n",
            "Epoch: 0.13, Train Accuracy: 48.14%, Validation Accuracy: 48.80%\n",
            "Epoch: 0.19, Train Accuracy: 51.80%, Validation Accuracy: 50.60%\n",
            "Epoch: 0.26, Train Accuracy: 52.80%, Validation Accuracy: 52.70%\n",
            "Epoch: 0.32, Train Accuracy: 54.48%, Validation Accuracy: 54.90%\n",
            "Epoch: 0.38, Train Accuracy: 55.55%, Validation Accuracy: 55.70%\n",
            "Epoch: 0.45, Train Accuracy: 56.23%, Validation Accuracy: 57.00%\n",
            "Epoch: 0.51, Train Accuracy: 56.07%, Validation Accuracy: 55.90%\n",
            "Epoch: 0.58, Train Accuracy: 56.90%, Validation Accuracy: 55.70%\n",
            "Epoch: 0.64, Train Accuracy: 57.27%, Validation Accuracy: 56.70%\n",
            "Epoch: 0.70, Train Accuracy: 58.77%, Validation Accuracy: 57.50%\n",
            "Epoch: 0.77, Train Accuracy: 59.01%, Validation Accuracy: 56.90%\n",
            "Epoch: 0.83, Train Accuracy: 59.05%, Validation Accuracy: 57.70%\n",
            "Epoch: 0.90, Train Accuracy: 59.71%, Validation Accuracy: 58.40%\n",
            "Epoch: 0.96, Train Accuracy: 59.77%, Validation Accuracy: 58.00%\n",
            "Epoch: 1.00, Train Accuracy: 59.52%, Validation Accuracy: 58.10%\n",
            "Experiment completed in 952 seconds with 58.4% validation accuracy.\n",
            "Training with hidden_size = 100 and fc_out_size = 100 ...\n",
            "Epoch: 0.00, Train Accuracy: 33.20%, Validation Accuracy: 33.80%\n",
            "Epoch: 0.06, Train Accuracy: 44.17%, Validation Accuracy: 43.10%\n",
            "Epoch: 0.13, Train Accuracy: 48.97%, Validation Accuracy: 47.90%\n",
            "Epoch: 0.19, Train Accuracy: 52.36%, Validation Accuracy: 51.90%\n",
            "Epoch: 0.26, Train Accuracy: 53.50%, Validation Accuracy: 54.80%\n",
            "Epoch: 0.32, Train Accuracy: 53.88%, Validation Accuracy: 53.60%\n",
            "Epoch: 0.38, Train Accuracy: 55.59%, Validation Accuracy: 55.40%\n",
            "Epoch: 0.45, Train Accuracy: 56.46%, Validation Accuracy: 54.40%\n",
            "Epoch: 0.51, Train Accuracy: 56.99%, Validation Accuracy: 55.30%\n",
            "Epoch: 0.58, Train Accuracy: 57.46%, Validation Accuracy: 54.60%\n",
            "Epoch: 0.64, Train Accuracy: 57.74%, Validation Accuracy: 56.60%\n",
            "Epoch: 0.70, Train Accuracy: 58.89%, Validation Accuracy: 57.10%\n",
            "Epoch: 0.77, Train Accuracy: 59.31%, Validation Accuracy: 57.80%\n",
            "Epoch: 0.83, Train Accuracy: 59.52%, Validation Accuracy: 56.90%\n",
            "Epoch: 0.90, Train Accuracy: 59.91%, Validation Accuracy: 58.80%\n",
            "Epoch: 0.96, Train Accuracy: 60.11%, Validation Accuracy: 58.40%\n",
            "Epoch: 1.00, Train Accuracy: 59.70%, Validation Accuracy: 59.40%\n",
            "Experiment completed in 1539 seconds with 59.4% validation accuracy.\n",
            "Training with hidden_size = 100 and fc_out_size = 200 ...\n",
            "Epoch: 0.00, Train Accuracy: 33.63%, Validation Accuracy: 33.10%\n",
            "Epoch: 0.06, Train Accuracy: 45.52%, Validation Accuracy: 42.40%\n",
            "Epoch: 0.13, Train Accuracy: 49.94%, Validation Accuracy: 50.90%\n",
            "Epoch: 0.19, Train Accuracy: 52.67%, Validation Accuracy: 52.70%\n",
            "Epoch: 0.26, Train Accuracy: 53.79%, Validation Accuracy: 52.10%\n",
            "Epoch: 0.32, Train Accuracy: 54.97%, Validation Accuracy: 54.70%\n",
            "Epoch: 0.38, Train Accuracy: 55.65%, Validation Accuracy: 55.10%\n",
            "Epoch: 0.45, Train Accuracy: 56.56%, Validation Accuracy: 55.00%\n",
            "Epoch: 0.51, Train Accuracy: 56.94%, Validation Accuracy: 55.90%\n",
            "Epoch: 0.58, Train Accuracy: 57.09%, Validation Accuracy: 54.70%\n",
            "Epoch: 0.64, Train Accuracy: 58.14%, Validation Accuracy: 56.80%\n",
            "Epoch: 0.70, Train Accuracy: 58.90%, Validation Accuracy: 58.50%\n",
            "Epoch: 0.77, Train Accuracy: 59.37%, Validation Accuracy: 59.10%\n",
            "Epoch: 0.83, Train Accuracy: 59.11%, Validation Accuracy: 57.30%\n",
            "Epoch: 0.90, Train Accuracy: 60.02%, Validation Accuracy: 59.40%\n",
            "Epoch: 0.96, Train Accuracy: 60.42%, Validation Accuracy: 60.20%\n",
            "Epoch: 1.00, Train Accuracy: 60.03%, Validation Accuracy: 60.00%\n",
            "Experiment completed in 1539 seconds with 60.2% validation accuracy.\n",
            "Training with hidden_size = 100 and fc_out_size = 300 ...\n",
            "Epoch: 0.00, Train Accuracy: 33.91%, Validation Accuracy: 32.80%\n",
            "Epoch: 0.06, Train Accuracy: 44.05%, Validation Accuracy: 43.20%\n",
            "Epoch: 0.13, Train Accuracy: 48.80%, Validation Accuracy: 47.60%\n",
            "Epoch: 0.19, Train Accuracy: 52.38%, Validation Accuracy: 53.30%\n",
            "Epoch: 0.26, Train Accuracy: 53.30%, Validation Accuracy: 51.90%\n",
            "Epoch: 0.32, Train Accuracy: 54.32%, Validation Accuracy: 54.00%\n",
            "Epoch: 0.38, Train Accuracy: 55.67%, Validation Accuracy: 55.20%\n",
            "Epoch: 0.45, Train Accuracy: 56.64%, Validation Accuracy: 55.60%\n",
            "Epoch: 0.51, Train Accuracy: 57.09%, Validation Accuracy: 56.10%\n",
            "Epoch: 0.58, Train Accuracy: 57.30%, Validation Accuracy: 54.80%\n",
            "Epoch: 0.64, Train Accuracy: 57.82%, Validation Accuracy: 58.90%\n",
            "Epoch: 0.70, Train Accuracy: 59.10%, Validation Accuracy: 58.20%\n",
            "Epoch: 0.77, Train Accuracy: 59.38%, Validation Accuracy: 58.00%\n",
            "Epoch: 0.83, Train Accuracy: 59.27%, Validation Accuracy: 57.70%\n",
            "Epoch: 0.90, Train Accuracy: 59.97%, Validation Accuracy: 57.90%\n",
            "Epoch: 0.96, Train Accuracy: 60.06%, Validation Accuracy: 59.40%\n",
            "Epoch: 1.00, Train Accuracy: 60.12%, Validation Accuracy: 59.60%\n",
            "Experiment completed in 1526 seconds with 59.6% validation accuracy.\n",
            "Training with hidden_size = 100 and fc_out_size = 500 ...\n",
            "Epoch: 0.00, Train Accuracy: 33.65%, Validation Accuracy: 33.10%\n",
            "Epoch: 0.06, Train Accuracy: 45.20%, Validation Accuracy: 44.30%\n",
            "Epoch: 0.13, Train Accuracy: 49.46%, Validation Accuracy: 49.70%\n",
            "Epoch: 0.19, Train Accuracy: 52.84%, Validation Accuracy: 52.80%\n",
            "Epoch: 0.26, Train Accuracy: 53.31%, Validation Accuracy: 53.10%\n",
            "Epoch: 0.32, Train Accuracy: 55.13%, Validation Accuracy: 55.20%\n",
            "Epoch: 0.38, Train Accuracy: 55.80%, Validation Accuracy: 57.20%\n",
            "Epoch: 0.45, Train Accuracy: 56.24%, Validation Accuracy: 55.40%\n",
            "Epoch: 0.51, Train Accuracy: 56.46%, Validation Accuracy: 57.40%\n",
            "Epoch: 0.58, Train Accuracy: 57.44%, Validation Accuracy: 57.00%\n",
            "Epoch: 0.64, Train Accuracy: 57.60%, Validation Accuracy: 57.50%\n",
            "Epoch: 0.70, Train Accuracy: 58.67%, Validation Accuracy: 57.50%\n",
            "Epoch: 0.77, Train Accuracy: 59.09%, Validation Accuracy: 58.20%\n",
            "Epoch: 0.83, Train Accuracy: 59.14%, Validation Accuracy: 57.10%\n",
            "Epoch: 0.90, Train Accuracy: 59.98%, Validation Accuracy: 59.70%\n",
            "Epoch: 0.96, Train Accuracy: 60.23%, Validation Accuracy: 61.10%\n",
            "Epoch: 1.00, Train Accuracy: 59.89%, Validation Accuracy: 59.00%\n",
            "Experiment completed in 1532 seconds with 61.1% validation accuracy.\n",
            "Training with hidden_size = 100 and fc_out_size = 750 ...\n",
            "Epoch: 0.00, Train Accuracy: 33.65%, Validation Accuracy: 33.10%\n",
            "Epoch: 0.06, Train Accuracy: 44.06%, Validation Accuracy: 41.30%\n",
            "Epoch: 0.13, Train Accuracy: 49.94%, Validation Accuracy: 49.10%\n",
            "Epoch: 0.19, Train Accuracy: 52.26%, Validation Accuracy: 51.80%\n",
            "Epoch: 0.26, Train Accuracy: 53.10%, Validation Accuracy: 51.20%\n",
            "Epoch: 0.32, Train Accuracy: 54.75%, Validation Accuracy: 54.20%\n",
            "Epoch: 0.38, Train Accuracy: 55.51%, Validation Accuracy: 54.90%\n",
            "Epoch: 0.45, Train Accuracy: 56.08%, Validation Accuracy: 53.00%\n",
            "Epoch: 0.51, Train Accuracy: 55.77%, Validation Accuracy: 56.40%\n",
            "Epoch: 0.58, Train Accuracy: 57.36%, Validation Accuracy: 55.20%\n",
            "Epoch: 0.64, Train Accuracy: 57.11%, Validation Accuracy: 56.50%\n",
            "Epoch: 0.70, Train Accuracy: 58.89%, Validation Accuracy: 58.50%\n",
            "Epoch: 0.77, Train Accuracy: 59.20%, Validation Accuracy: 57.80%\n",
            "Epoch: 0.83, Train Accuracy: 59.09%, Validation Accuracy: 58.90%\n",
            "Epoch: 0.90, Train Accuracy: 59.71%, Validation Accuracy: 59.10%\n",
            "Epoch: 0.96, Train Accuracy: 60.16%, Validation Accuracy: 59.70%\n",
            "Epoch: 1.00, Train Accuracy: 59.92%, Validation Accuracy: 60.10%\n",
            "Experiment completed in 1578 seconds with 60.1% validation accuracy.\n",
            "Training with hidden_size = 200 and fc_out_size = 100 ...\n",
            "Epoch: 0.00, Train Accuracy: 33.18%, Validation Accuracy: 33.10%\n",
            "Epoch: 0.06, Train Accuracy: 45.34%, Validation Accuracy: 43.90%\n",
            "Epoch: 0.13, Train Accuracy: 49.56%, Validation Accuracy: 48.10%\n",
            "Epoch: 0.19, Train Accuracy: 53.16%, Validation Accuracy: 53.10%\n",
            "Epoch: 0.26, Train Accuracy: 53.96%, Validation Accuracy: 52.30%\n",
            "Epoch: 0.32, Train Accuracy: 54.51%, Validation Accuracy: 53.20%\n",
            "Epoch: 0.38, Train Accuracy: 55.87%, Validation Accuracy: 56.20%\n",
            "Epoch: 0.45, Train Accuracy: 56.41%, Validation Accuracy: 54.80%\n",
            "Epoch: 0.51, Train Accuracy: 56.76%, Validation Accuracy: 56.80%\n",
            "Epoch: 0.58, Train Accuracy: 57.92%, Validation Accuracy: 55.60%\n",
            "Epoch: 0.64, Train Accuracy: 57.85%, Validation Accuracy: 57.30%\n",
            "Epoch: 0.70, Train Accuracy: 58.75%, Validation Accuracy: 57.50%\n",
            "Epoch: 0.77, Train Accuracy: 59.57%, Validation Accuracy: 57.80%\n",
            "Epoch: 0.83, Train Accuracy: 59.67%, Validation Accuracy: 58.00%\n",
            "Epoch: 0.90, Train Accuracy: 60.25%, Validation Accuracy: 58.40%\n",
            "Epoch: 0.96, Train Accuracy: 60.71%, Validation Accuracy: 60.90%\n",
            "Epoch: 1.00, Train Accuracy: 59.88%, Validation Accuracy: 60.00%\n",
            "Experiment completed in 3113 seconds with 60.9% validation accuracy.\n",
            "Training with hidden_size = 200 and fc_out_size = 200 ...\n",
            "Epoch: 0.00, Train Accuracy: 33.63%, Validation Accuracy: 33.10%\n",
            "Epoch: 0.06, Train Accuracy: 44.04%, Validation Accuracy: 44.20%\n",
            "Epoch: 0.13, Train Accuracy: 49.81%, Validation Accuracy: 49.00%\n",
            "Epoch: 0.19, Train Accuracy: 52.42%, Validation Accuracy: 51.70%\n",
            "Epoch: 0.26, Train Accuracy: 52.98%, Validation Accuracy: 50.80%\n",
            "Epoch: 0.32, Train Accuracy: 55.43%, Validation Accuracy: 55.30%\n",
            "Epoch: 0.38, Train Accuracy: 56.02%, Validation Accuracy: 56.20%\n",
            "Epoch: 0.45, Train Accuracy: 56.59%, Validation Accuracy: 53.90%\n",
            "Epoch: 0.51, Train Accuracy: 55.77%, Validation Accuracy: 56.00%\n",
            "Epoch: 0.58, Train Accuracy: 57.80%, Validation Accuracy: 55.90%\n",
            "Epoch: 0.64, Train Accuracy: 57.70%, Validation Accuracy: 56.80%\n",
            "Epoch: 0.70, Train Accuracy: 58.98%, Validation Accuracy: 58.70%\n",
            "Epoch: 0.77, Train Accuracy: 59.08%, Validation Accuracy: 58.50%\n",
            "Epoch: 0.83, Train Accuracy: 59.54%, Validation Accuracy: 59.20%\n",
            "Epoch: 0.90, Train Accuracy: 60.19%, Validation Accuracy: 59.80%\n",
            "Epoch: 0.96, Train Accuracy: 60.46%, Validation Accuracy: 59.20%\n",
            "Epoch: 1.00, Train Accuracy: 59.75%, Validation Accuracy: 59.30%\n",
            "Experiment completed in 3163 seconds with 59.8% validation accuracy.\n",
            "Training with hidden_size = 200 and fc_out_size = 300 ...\n",
            "Epoch: 0.00, Train Accuracy: 34.10%, Validation Accuracy: 33.10%\n",
            "Epoch: 0.06, Train Accuracy: 46.92%, Validation Accuracy: 46.90%\n",
            "Epoch: 0.13, Train Accuracy: 50.16%, Validation Accuracy: 50.60%\n",
            "Epoch: 0.19, Train Accuracy: 51.84%, Validation Accuracy: 50.90%\n",
            "Epoch: 0.26, Train Accuracy: 53.51%, Validation Accuracy: 52.70%\n",
            "Epoch: 0.32, Train Accuracy: 54.71%, Validation Accuracy: 54.30%\n",
            "Epoch: 0.38, Train Accuracy: 55.70%, Validation Accuracy: 55.80%\n",
            "Epoch: 0.45, Train Accuracy: 55.93%, Validation Accuracy: 55.10%\n",
            "Epoch: 0.51, Train Accuracy: 56.16%, Validation Accuracy: 56.50%\n",
            "Epoch: 0.58, Train Accuracy: 57.69%, Validation Accuracy: 55.90%\n",
            "Epoch: 0.64, Train Accuracy: 57.07%, Validation Accuracy: 55.80%\n",
            "Epoch: 0.70, Train Accuracy: 58.86%, Validation Accuracy: 57.80%\n",
            "Epoch: 0.77, Train Accuracy: 59.26%, Validation Accuracy: 58.70%\n",
            "Epoch: 0.83, Train Accuracy: 59.24%, Validation Accuracy: 56.80%\n",
            "Epoch: 0.90, Train Accuracy: 60.06%, Validation Accuracy: 59.40%\n",
            "Epoch: 0.96, Train Accuracy: 60.49%, Validation Accuracy: 60.50%\n",
            "Epoch: 1.00, Train Accuracy: 60.30%, Validation Accuracy: 59.70%\n",
            "Experiment completed in 3212 seconds with 60.5% validation accuracy.\n",
            "Training with hidden_size = 200 and fc_out_size = 500 ...\n",
            "Epoch: 0.00, Train Accuracy: 33.73%, Validation Accuracy: 33.10%\n",
            "Epoch: 0.06, Train Accuracy: 45.20%, Validation Accuracy: 43.80%\n",
            "Epoch: 0.13, Train Accuracy: 49.41%, Validation Accuracy: 50.50%\n",
            "Epoch: 0.19, Train Accuracy: 51.51%, Validation Accuracy: 50.70%\n",
            "Epoch: 0.26, Train Accuracy: 53.75%, Validation Accuracy: 52.20%\n",
            "Epoch: 0.32, Train Accuracy: 54.88%, Validation Accuracy: 54.90%\n",
            "Epoch: 0.38, Train Accuracy: 55.43%, Validation Accuracy: 55.40%\n",
            "Epoch: 0.45, Train Accuracy: 56.35%, Validation Accuracy: 55.90%\n",
            "Epoch: 0.51, Train Accuracy: 56.49%, Validation Accuracy: 56.20%\n",
            "Epoch: 0.58, Train Accuracy: 57.79%, Validation Accuracy: 56.60%\n",
            "Epoch: 0.64, Train Accuracy: 57.55%, Validation Accuracy: 56.00%\n",
            "Epoch: 0.70, Train Accuracy: 58.82%, Validation Accuracy: 58.70%\n",
            "Epoch: 0.77, Train Accuracy: 59.34%, Validation Accuracy: 60.40%\n",
            "Epoch: 0.83, Train Accuracy: 59.17%, Validation Accuracy: 57.90%\n",
            "Epoch: 0.90, Train Accuracy: 59.90%, Validation Accuracy: 57.70%\n",
            "Epoch: 0.96, Train Accuracy: 59.93%, Validation Accuracy: 58.40%\n",
            "Epoch: 1.00, Train Accuracy: 59.92%, Validation Accuracy: 59.80%\n",
            "Experiment completed in 3251 seconds with 60.4% validation accuracy.\n",
            "Training with hidden_size = 200 and fc_out_size = 750 ...\n",
            "Epoch: 0.00, Train Accuracy: 33.76%, Validation Accuracy: 33.10%\n",
            "Epoch: 0.06, Train Accuracy: 46.74%, Validation Accuracy: 47.00%\n",
            "Epoch: 0.13, Train Accuracy: 50.38%, Validation Accuracy: 50.20%\n",
            "Epoch: 0.19, Train Accuracy: 52.40%, Validation Accuracy: 53.20%\n",
            "Epoch: 0.26, Train Accuracy: 53.54%, Validation Accuracy: 51.70%\n",
            "Epoch: 0.32, Train Accuracy: 54.99%, Validation Accuracy: 54.80%\n",
            "Epoch: 0.38, Train Accuracy: 55.82%, Validation Accuracy: 56.50%\n",
            "Epoch: 0.45, Train Accuracy: 56.41%, Validation Accuracy: 54.20%\n",
            "Epoch: 0.51, Train Accuracy: 56.68%, Validation Accuracy: 56.70%\n",
            "Epoch: 0.58, Train Accuracy: 57.84%, Validation Accuracy: 56.80%\n",
            "Epoch: 0.64, Train Accuracy: 57.10%, Validation Accuracy: 56.50%\n",
            "Epoch: 0.70, Train Accuracy: 58.80%, Validation Accuracy: 57.30%\n",
            "Epoch: 0.77, Train Accuracy: 58.70%, Validation Accuracy: 58.70%\n",
            "Epoch: 0.83, Train Accuracy: 59.11%, Validation Accuracy: 58.00%\n",
            "Epoch: 0.90, Train Accuracy: 59.79%, Validation Accuracy: 58.40%\n",
            "Epoch: 0.96, Train Accuracy: 60.19%, Validation Accuracy: 58.70%\n",
            "Epoch: 1.00, Train Accuracy: 59.35%, Validation Accuracy: 59.30%\n",
            "Experiment completed in 3257 seconds with 59.3% validation accuracy.\n"
          ],
          "name": "stdout"
        }
      ]
    },
    {
      "cell_type": "code",
      "metadata": {
        "id": "Bts98RTDGYkc",
        "outputId": "e2607263-1350-4cdf-805d-2aa0e5e30332",
        "colab": {
          "base_uri": "https://localhost:8080/",
          "height": 876
        }
      },
      "source": [
        "# all results \n",
        "rnn_hidden_fc_out_size_exps = summarize_results(load_experiment_log(experiment_name='RNN_hidden_fc_out_10epoch', filename=RESULTS_LOG))\n",
        "rnn_hidden_fc_out_size_exps[['hidden_size', 'fc_out_size', 'num_epochs', 'runtime', 'val_acc']].sort_values(['hidden_size', 'fc_out_size'])"
      ],
      "execution_count": null,
      "outputs": [
        {
          "output_type": "execute_result",
          "data": {
            "text/html": [
              "<div>\n",
              "<style scoped>\n",
              "    .dataframe tbody tr th:only-of-type {\n",
              "        vertical-align: middle;\n",
              "    }\n",
              "\n",
              "    .dataframe tbody tr th {\n",
              "        vertical-align: top;\n",
              "    }\n",
              "\n",
              "    .dataframe thead th {\n",
              "        text-align: right;\n",
              "    }\n",
              "</style>\n",
              "<table border=\"1\" class=\"dataframe\">\n",
              "  <thead>\n",
              "    <tr style=\"text-align: right;\">\n",
              "      <th></th>\n",
              "      <th>hidden_size</th>\n",
              "      <th>fc_out_size</th>\n",
              "      <th>num_epochs</th>\n",
              "      <th>runtime</th>\n",
              "      <th>val_acc</th>\n",
              "    </tr>\n",
              "  </thead>\n",
              "  <tbody>\n",
              "    <tr>\n",
              "      <th>3</th>\n",
              "      <td>10</td>\n",
              "      <td>100</td>\n",
              "      <td>1</td>\n",
              "      <td>523.645293</td>\n",
              "      <td>57.5</td>\n",
              "    </tr>\n",
              "    <tr>\n",
              "      <th>0</th>\n",
              "      <td>10</td>\n",
              "      <td>100</td>\n",
              "      <td>1</td>\n",
              "      <td>513.975745</td>\n",
              "      <td>57.0</td>\n",
              "    </tr>\n",
              "    <tr>\n",
              "      <th>1</th>\n",
              "      <td>10</td>\n",
              "      <td>200</td>\n",
              "      <td>1</td>\n",
              "      <td>515.702374</td>\n",
              "      <td>58.0</td>\n",
              "    </tr>\n",
              "    <tr>\n",
              "      <th>4</th>\n",
              "      <td>10</td>\n",
              "      <td>200</td>\n",
              "      <td>1</td>\n",
              "      <td>526.594406</td>\n",
              "      <td>57.8</td>\n",
              "    </tr>\n",
              "    <tr>\n",
              "      <th>5</th>\n",
              "      <td>10</td>\n",
              "      <td>300</td>\n",
              "      <td>1</td>\n",
              "      <td>531.161425</td>\n",
              "      <td>57.9</td>\n",
              "    </tr>\n",
              "    <tr>\n",
              "      <th>2</th>\n",
              "      <td>10</td>\n",
              "      <td>300</td>\n",
              "      <td>1</td>\n",
              "      <td>521.776049</td>\n",
              "      <td>56.4</td>\n",
              "    </tr>\n",
              "    <tr>\n",
              "      <th>6</th>\n",
              "      <td>10</td>\n",
              "      <td>500</td>\n",
              "      <td>1</td>\n",
              "      <td>532.111753</td>\n",
              "      <td>57.5</td>\n",
              "    </tr>\n",
              "    <tr>\n",
              "      <th>7</th>\n",
              "      <td>10</td>\n",
              "      <td>750</td>\n",
              "      <td>1</td>\n",
              "      <td>535.781438</td>\n",
              "      <td>57.4</td>\n",
              "    </tr>\n",
              "    <tr>\n",
              "      <th>8</th>\n",
              "      <td>25</td>\n",
              "      <td>100</td>\n",
              "      <td>1</td>\n",
              "      <td>685.656217</td>\n",
              "      <td>58.9</td>\n",
              "    </tr>\n",
              "    <tr>\n",
              "      <th>9</th>\n",
              "      <td>25</td>\n",
              "      <td>200</td>\n",
              "      <td>1</td>\n",
              "      <td>684.917544</td>\n",
              "      <td>58.6</td>\n",
              "    </tr>\n",
              "    <tr>\n",
              "      <th>10</th>\n",
              "      <td>25</td>\n",
              "      <td>300</td>\n",
              "      <td>1</td>\n",
              "      <td>684.739435</td>\n",
              "      <td>58.4</td>\n",
              "    </tr>\n",
              "    <tr>\n",
              "      <th>11</th>\n",
              "      <td>25</td>\n",
              "      <td>500</td>\n",
              "      <td>1</td>\n",
              "      <td>691.500592</td>\n",
              "      <td>59.2</td>\n",
              "    </tr>\n",
              "    <tr>\n",
              "      <th>12</th>\n",
              "      <td>25</td>\n",
              "      <td>750</td>\n",
              "      <td>1</td>\n",
              "      <td>693.799360</td>\n",
              "      <td>59.0</td>\n",
              "    </tr>\n",
              "    <tr>\n",
              "      <th>13</th>\n",
              "      <td>50</td>\n",
              "      <td>100</td>\n",
              "      <td>1</td>\n",
              "      <td>927.087037</td>\n",
              "      <td>59.1</td>\n",
              "    </tr>\n",
              "    <tr>\n",
              "      <th>14</th>\n",
              "      <td>50</td>\n",
              "      <td>200</td>\n",
              "      <td>1</td>\n",
              "      <td>924.432466</td>\n",
              "      <td>59.0</td>\n",
              "    </tr>\n",
              "    <tr>\n",
              "      <th>15</th>\n",
              "      <td>50</td>\n",
              "      <td>300</td>\n",
              "      <td>1</td>\n",
              "      <td>927.540028</td>\n",
              "      <td>59.4</td>\n",
              "    </tr>\n",
              "    <tr>\n",
              "      <th>16</th>\n",
              "      <td>50</td>\n",
              "      <td>500</td>\n",
              "      <td>1</td>\n",
              "      <td>954.311953</td>\n",
              "      <td>59.2</td>\n",
              "    </tr>\n",
              "    <tr>\n",
              "      <th>17</th>\n",
              "      <td>50</td>\n",
              "      <td>750</td>\n",
              "      <td>1</td>\n",
              "      <td>952.349965</td>\n",
              "      <td>58.4</td>\n",
              "    </tr>\n",
              "    <tr>\n",
              "      <th>18</th>\n",
              "      <td>100</td>\n",
              "      <td>100</td>\n",
              "      <td>1</td>\n",
              "      <td>1539.383902</td>\n",
              "      <td>59.4</td>\n",
              "    </tr>\n",
              "    <tr>\n",
              "      <th>19</th>\n",
              "      <td>100</td>\n",
              "      <td>200</td>\n",
              "      <td>1</td>\n",
              "      <td>1539.954416</td>\n",
              "      <td>60.2</td>\n",
              "    </tr>\n",
              "    <tr>\n",
              "      <th>20</th>\n",
              "      <td>100</td>\n",
              "      <td>300</td>\n",
              "      <td>1</td>\n",
              "      <td>1526.704731</td>\n",
              "      <td>59.6</td>\n",
              "    </tr>\n",
              "    <tr>\n",
              "      <th>21</th>\n",
              "      <td>100</td>\n",
              "      <td>500</td>\n",
              "      <td>1</td>\n",
              "      <td>1532.782107</td>\n",
              "      <td>61.1</td>\n",
              "    </tr>\n",
              "    <tr>\n",
              "      <th>22</th>\n",
              "      <td>100</td>\n",
              "      <td>750</td>\n",
              "      <td>1</td>\n",
              "      <td>1578.112880</td>\n",
              "      <td>60.1</td>\n",
              "    </tr>\n",
              "    <tr>\n",
              "      <th>23</th>\n",
              "      <td>200</td>\n",
              "      <td>100</td>\n",
              "      <td>1</td>\n",
              "      <td>3113.886945</td>\n",
              "      <td>60.9</td>\n",
              "    </tr>\n",
              "    <tr>\n",
              "      <th>24</th>\n",
              "      <td>200</td>\n",
              "      <td>200</td>\n",
              "      <td>1</td>\n",
              "      <td>3163.729207</td>\n",
              "      <td>59.8</td>\n",
              "    </tr>\n",
              "    <tr>\n",
              "      <th>25</th>\n",
              "      <td>200</td>\n",
              "      <td>300</td>\n",
              "      <td>1</td>\n",
              "      <td>3212.110152</td>\n",
              "      <td>60.5</td>\n",
              "    </tr>\n",
              "    <tr>\n",
              "      <th>26</th>\n",
              "      <td>200</td>\n",
              "      <td>500</td>\n",
              "      <td>1</td>\n",
              "      <td>3251.492985</td>\n",
              "      <td>60.4</td>\n",
              "    </tr>\n",
              "    <tr>\n",
              "      <th>27</th>\n",
              "      <td>200</td>\n",
              "      <td>750</td>\n",
              "      <td>1</td>\n",
              "      <td>3257.589894</td>\n",
              "      <td>59.3</td>\n",
              "    </tr>\n",
              "  </tbody>\n",
              "</table>\n",
              "</div>"
            ],
            "text/plain": [
              "    hidden_size  fc_out_size  num_epochs      runtime  val_acc\n",
              "3            10          100           1   523.645293     57.5\n",
              "0            10          100           1   513.975745     57.0\n",
              "1            10          200           1   515.702374     58.0\n",
              "4            10          200           1   526.594406     57.8\n",
              "5            10          300           1   531.161425     57.9\n",
              "2            10          300           1   521.776049     56.4\n",
              "6            10          500           1   532.111753     57.5\n",
              "7            10          750           1   535.781438     57.4\n",
              "8            25          100           1   685.656217     58.9\n",
              "9            25          200           1   684.917544     58.6\n",
              "10           25          300           1   684.739435     58.4\n",
              "11           25          500           1   691.500592     59.2\n",
              "12           25          750           1   693.799360     59.0\n",
              "13           50          100           1   927.087037     59.1\n",
              "14           50          200           1   924.432466     59.0\n",
              "15           50          300           1   927.540028     59.4\n",
              "16           50          500           1   954.311953     59.2\n",
              "17           50          750           1   952.349965     58.4\n",
              "18          100          100           1  1539.383902     59.4\n",
              "19          100          200           1  1539.954416     60.2\n",
              "20          100          300           1  1526.704731     59.6\n",
              "21          100          500           1  1532.782107     61.1\n",
              "22          100          750           1  1578.112880     60.1\n",
              "23          200          100           1  3113.886945     60.9\n",
              "24          200          200           1  3163.729207     59.8\n",
              "25          200          300           1  3212.110152     60.5\n",
              "26          200          500           1  3251.492985     60.4\n",
              "27          200          750           1  3257.589894     59.3"
            ]
          },
          "metadata": {
            "tags": []
          },
          "execution_count": 26
        }
      ]
    },
    {
      "cell_type": "code",
      "metadata": {
        "id": "x24TYGmKGYMz",
        "outputId": "227f7b1e-df59-4023-bab1-20f292deb0c5",
        "colab": {
          "base_uri": "https://localhost:8080/",
          "height": 296
        }
      },
      "source": [
        "# plot summary results \n",
        "pd.pivot_table(rnn_hidden_fc_out_size_exps, values='val_acc', index='fc_out_size', columns='hidden_size').plot()"
      ],
      "execution_count": null,
      "outputs": [
        {
          "output_type": "execute_result",
          "data": {
            "text/plain": [
              "<matplotlib.axes._subplots.AxesSubplot at 0x7f39921284e0>"
            ]
          },
          "metadata": {
            "tags": []
          },
          "execution_count": 27
        },
        {
          "output_type": "display_data",
          "data": {
            "image/png": "[encoded data removed]",
            "text/plain": [
              "<Figure size 432x288 with 1 Axes>"
            ]
          },
          "metadata": {
            "tags": [],
            "needs_background": "light"
          }
        }
      ]
    },
    {
      "cell_type": "code",
      "metadata": {
        "id": "sPA0rOFDGX0y",
        "outputId": "2fd303ad-87bf-403c-cbf9-e771fb740e39",
        "colab": {
          "base_uri": "https://localhost:8080/",
          "height": 77
        }
      },
      "source": [
        "# best RNN model \n",
        "rnn_hidden_fc_out_size_exps[['hidden_size', 'fc_out_size', 'num_epochs', 'runtime', 'val_acc']].sort_values(\n",
        "    ['val_acc'], ascending=False).head(1)"
      ],
      "execution_count": null,
      "outputs": [
        {
          "output_type": "execute_result",
          "data": {
            "text/html": [
              "<div>\n",
              "<style scoped>\n",
              "    .dataframe tbody tr th:only-of-type {\n",
              "        vertical-align: middle;\n",
              "    }\n",
              "\n",
              "    .dataframe tbody tr th {\n",
              "        vertical-align: top;\n",
              "    }\n",
              "\n",
              "    .dataframe thead th {\n",
              "        text-align: right;\n",
              "    }\n",
              "</style>\n",
              "<table border=\"1\" class=\"dataframe\">\n",
              "  <thead>\n",
              "    <tr style=\"text-align: right;\">\n",
              "      <th></th>\n",
              "      <th>hidden_size</th>\n",
              "      <th>fc_out_size</th>\n",
              "      <th>num_epochs</th>\n",
              "      <th>runtime</th>\n",
              "      <th>val_acc</th>\n",
              "    </tr>\n",
              "  </thead>\n",
              "  <tbody>\n",
              "    <tr>\n",
              "      <th>21</th>\n",
              "      <td>100</td>\n",
              "      <td>500</td>\n",
              "      <td>1</td>\n",
              "      <td>1532.782107</td>\n",
              "      <td>61.1</td>\n",
              "    </tr>\n",
              "  </tbody>\n",
              "</table>\n",
              "</div>"
            ],
            "text/plain": [
              "    hidden_size  fc_out_size  num_epochs      runtime  val_acc\n",
              "21          100          500           1  1532.782107     61.1"
            ]
          },
          "metadata": {
            "tags": []
          },
          "execution_count": 28
        }
      ]
    },
    {
      "cell_type": "code",
      "metadata": {
        "id": "Rw3QpZfSGXg8",
        "outputId": "b95bb94d-339d-41f8-d447-3759c69c96e1",
        "colab": {
          "base_uri": "https://localhost:8080/",
          "height": 333
        }
      },
      "source": [
        "# ablation with hidden size (set fc_out_size = 500)\n",
        "rnn_hidden_size_ablation = rnn_hidden_fc_out_size_exps[rnn_hidden_fc_out_size_exps['fc_out_size'] == 500]\n",
        "plot_multiple_learning_curves(rnn_hidden_size_ablation, 'hidden_size', legend_loc='lower right')"
      ],
      "execution_count": null,
      "outputs": [
        {
          "output_type": "display_data",
          "data": {
            "image/png": "[encoded data removed]",
            "text/plain": [
              "<Figure size 576x360 with 1 Axes>"
            ]
          },
          "metadata": {
            "tags": [],
            "needs_background": "light"
          }
        }
      ]
    },
    {
      "cell_type": "code",
      "metadata": {
        "id": "BmeKBvajGXHJ",
        "outputId": "755c4790-1de2-4a05-b890-0649c8bf2ec6",
        "colab": {
          "base_uri": "https://localhost:8080/",
          "height": 333
        }
      },
      "source": [
        "# ablation with fc_out_size (set hidden_size = 100)\n",
        "rnn_fc_out_size_ablation = rnn_hidden_fc_out_size_exps[rnn_hidden_fc_out_size_exps['hidden_size'] == 100]\n",
        "plot_multiple_learning_curves(rnn_fc_out_size_ablation, 'fc_out_size', legend_loc='lower right')"
      ],
      "execution_count": null,
      "outputs": [
        {
          "output_type": "display_data",
          "data": {
            "image/png": "[encoded data removed]",
            "text/plain": [
              "<Figure size 576x360 with 1 Axes>"
            ]
          },
          "metadata": {
            "tags": [],
            "needs_background": "light"
          }
        }
      ]
    },
    {
      "cell_type": "markdown",
      "metadata": {
        "id": "q3keY5qWMJ-5"
      },
      "source": [
        "### Test Dropout"
      ]
    },
    {
      "cell_type": "code",
      "metadata": {
        "id": "IWrr93onGWix",
        "outputId": "1a02c879-c7c6-4312-ba36-b607881cba7b",
        "colab": {
          "base_uri": "https://localhost:8080/"
        }
      },
      "source": [
        "dropout_fcs = [0.5]\n",
        "\n",
        "for dropout_fc in dropout_fcs: \n",
        "    print (\"Training with dropout_fc = {} ...\".format(dropout_fc))\n",
        "\n",
        "    # train and evaluate\n",
        "    results, hyperparams, runtime, _, _, _ = run_experiment(\n",
        "        train_loader=snli_train_loader, val_loader=snli_val_loader,\n",
        "        model_type='rnn', hidden_size=100, fc_out_size=500, dropout_fc=dropout_fc, kernel_size=None, \n",
        "        learning_rate=0.001, num_epochs=10, experiment_name='RNN_dropout_fc_10epoch', \n",
        "        save_to_log=True, save_checkpoint=False, print_summary=True, print_intermediate=True)"
      ],
      "execution_count": null,
      "outputs": [
        {
          "output_type": "stream",
          "text": [
            "Training with dropout_fc = 0.5 ...\n",
            "Epoch: 0.00, Train Accuracy: 33.48%, Validation Accuracy: 33.80%\n",
            "Epoch: 0.06, Train Accuracy: 43.21%, Validation Accuracy: 40.40%\n",
            "Epoch: 0.13, Train Accuracy: 47.20%, Validation Accuracy: 47.10%\n",
            "Epoch: 0.19, Train Accuracy: 51.85%, Validation Accuracy: 51.40%\n",
            "Epoch: 0.26, Train Accuracy: 52.92%, Validation Accuracy: 52.80%\n",
            "Epoch: 0.32, Train Accuracy: 54.20%, Validation Accuracy: 52.70%\n",
            "Epoch: 0.38, Train Accuracy: 54.56%, Validation Accuracy: 52.70%\n",
            "Epoch: 0.45, Train Accuracy: 55.48%, Validation Accuracy: 53.60%\n",
            "Epoch: 0.51, Train Accuracy: 55.31%, Validation Accuracy: 53.70%\n",
            "Epoch: 0.58, Train Accuracy: 56.36%, Validation Accuracy: 55.10%\n",
            "Epoch: 0.64, Train Accuracy: 57.03%, Validation Accuracy: 56.90%\n",
            "Epoch: 0.70, Train Accuracy: 57.61%, Validation Accuracy: 55.40%\n",
            "Epoch: 0.77, Train Accuracy: 58.10%, Validation Accuracy: 56.00%\n",
            "Epoch: 0.83, Train Accuracy: 58.23%, Validation Accuracy: 56.30%\n",
            "Epoch: 0.90, Train Accuracy: 58.58%, Validation Accuracy: 57.70%\n",
            "Epoch: 0.96, Train Accuracy: 58.84%, Validation Accuracy: 57.60%\n",
            "Epoch: 1.00, Train Accuracy: 58.48%, Validation Accuracy: 58.00%\n",
            "Epoch: 1.06, Train Accuracy: 59.24%, Validation Accuracy: 58.90%\n",
            "Epoch: 1.13, Train Accuracy: 59.29%, Validation Accuracy: 58.60%\n",
            "Epoch: 1.19, Train Accuracy: 59.76%, Validation Accuracy: 58.20%\n",
            "Epoch: 1.26, Train Accuracy: 59.89%, Validation Accuracy: 58.50%\n",
            "Epoch: 1.32, Train Accuracy: 59.59%, Validation Accuracy: 58.10%\n",
            "Epoch: 1.38, Train Accuracy: 59.78%, Validation Accuracy: 58.30%\n",
            "Epoch: 1.45, Train Accuracy: 59.78%, Validation Accuracy: 58.00%\n",
            "Epoch: 1.51, Train Accuracy: 60.06%, Validation Accuracy: 57.50%\n",
            "Epoch: 1.58, Train Accuracy: 60.19%, Validation Accuracy: 58.60%\n",
            "Epoch: 1.64, Train Accuracy: 60.36%, Validation Accuracy: 60.10%\n",
            "Epoch: 1.70, Train Accuracy: 60.81%, Validation Accuracy: 58.70%\n",
            "Epoch: 1.77, Train Accuracy: 61.12%, Validation Accuracy: 59.50%\n",
            "Epoch: 1.83, Train Accuracy: 61.02%, Validation Accuracy: 58.90%\n",
            "Epoch: 1.90, Train Accuracy: 61.28%, Validation Accuracy: 61.00%\n",
            "Epoch: 1.96, Train Accuracy: 61.50%, Validation Accuracy: 59.50%\n",
            "Epoch: 2.00, Train Accuracy: 60.94%, Validation Accuracy: 58.70%\n",
            "Epoch: 2.06, Train Accuracy: 61.71%, Validation Accuracy: 61.00%\n",
            "Epoch: 2.13, Train Accuracy: 61.46%, Validation Accuracy: 58.50%\n",
            "Epoch: 2.19, Train Accuracy: 61.92%, Validation Accuracy: 58.80%\n",
            "Epoch: 2.26, Train Accuracy: 62.30%, Validation Accuracy: 60.20%\n",
            "Epoch: 2.32, Train Accuracy: 61.78%, Validation Accuracy: 61.10%\n",
            "Epoch: 2.38, Train Accuracy: 61.84%, Validation Accuracy: 59.50%\n",
            "Epoch: 2.45, Train Accuracy: 62.44%, Validation Accuracy: 60.20%\n",
            "Epoch: 2.51, Train Accuracy: 61.57%, Validation Accuracy: 61.20%\n",
            "Epoch: 2.58, Train Accuracy: 62.75%, Validation Accuracy: 62.00%\n",
            "Epoch: 2.64, Train Accuracy: 62.94%, Validation Accuracy: 62.80%\n",
            "Epoch: 2.70, Train Accuracy: 62.48%, Validation Accuracy: 61.00%\n",
            "Epoch: 2.77, Train Accuracy: 63.16%, Validation Accuracy: 60.50%\n",
            "Epoch: 2.83, Train Accuracy: 63.45%, Validation Accuracy: 60.90%\n",
            "Epoch: 2.90, Train Accuracy: 63.77%, Validation Accuracy: 62.60%\n",
            "Epoch: 2.96, Train Accuracy: 63.90%, Validation Accuracy: 61.60%\n",
            "Epoch: 3.00, Train Accuracy: 63.49%, Validation Accuracy: 61.70%\n",
            "Epoch: 3.06, Train Accuracy: 64.04%, Validation Accuracy: 61.20%\n",
            "Epoch: 3.13, Train Accuracy: 64.14%, Validation Accuracy: 62.50%\n",
            "Epoch: 3.19, Train Accuracy: 64.16%, Validation Accuracy: 61.80%\n",
            "Epoch: 3.26, Train Accuracy: 64.45%, Validation Accuracy: 61.80%\n",
            "Epoch: 3.32, Train Accuracy: 64.18%, Validation Accuracy: 62.90%\n",
            "Epoch: 3.38, Train Accuracy: 64.17%, Validation Accuracy: 61.10%\n",
            "Epoch: 3.45, Train Accuracy: 64.84%, Validation Accuracy: 62.00%\n",
            "Epoch: 3.51, Train Accuracy: 64.78%, Validation Accuracy: 63.10%\n",
            "Epoch: 3.58, Train Accuracy: 65.25%, Validation Accuracy: 61.90%\n",
            "Epoch: 3.64, Train Accuracy: 65.08%, Validation Accuracy: 64.10%\n",
            "Epoch: 3.70, Train Accuracy: 64.99%, Validation Accuracy: 64.10%\n",
            "Epoch: 3.77, Train Accuracy: 65.37%, Validation Accuracy: 62.40%\n",
            "Epoch: 3.83, Train Accuracy: 65.45%, Validation Accuracy: 63.30%\n",
            "Epoch: 3.90, Train Accuracy: 65.39%, Validation Accuracy: 63.70%\n",
            "Epoch: 3.96, Train Accuracy: 65.84%, Validation Accuracy: 64.20%\n"
          ],
          "name": "stdout"
        }
      ]
    },
    {
      "cell_type": "code",
      "metadata": {
        "id": "-dC4kBxrGV-0"
      },
      "source": [
        "# get best without dropout \n",
        "optimal = rnn_fc_out_size_ablation[rnn_fc_out_size_ablation['fc_out_size'] == 500].copy()\n",
        "optimal['dropout_fc'] = 'None'\n",
        "# concat with dropout \n",
        "rnn_dropout_exps = summarize_results(load_experiment_log(experiment_name='RNN_dropout_fc_10epoch_v2', filename=RESULTS_LOG))\n",
        "rnn_dropout_exps.dropna(subset=['dropout_fc'], inplace=True) \n",
        "rnn_dropout_exps = pd.concat([rnn_dropout_exps, optimal], sort=True)  \n",
        "rnn_dropout_exps = rnn_dropout_exps.sort_values(by='val_acc', ascending=False)\n",
        "rnn_dropout_exps[['dropout_fc', 'num_epochs', 'runtime', 'val_acc']]"
      ],
      "execution_count": null,
      "outputs": []
    },
    {
      "cell_type": "code",
      "metadata": {
        "id": "g9DrPoP3MYJk"
      },
      "source": [
        "plot_multiple_learning_curves(rnn_dropout_exps, 'dropout_fc', legend_loc='lower right')\n"
      ],
      "execution_count": null,
      "outputs": []
    },
    {
      "cell_type": "markdown",
      "metadata": {
        "id": "3sEgwu9AMjmp"
      },
      "source": [
        "### Retrain and Save Best RNN Model\n"
      ]
    },
    {
      "cell_type": "code",
      "metadata": {
        "id": "hHPSmdo-MZkl"
      },
      "source": [
        "# summarize best hyperparameters \n",
        "BEST_RNN_MODEL_NAME = 'RNN_100hidden_500fc_10epoch_001lr_v3' #'RNN_100hidden_500fc_10epoch_001lr_v3'\n",
        "BEST_RNN_HIDDEN_SIZE = 100\n",
        "BEST_RNN_FC_OUT_SIZE = 500"
      ],
      "execution_count": null,
      "outputs": []
    },
    {
      "cell_type": "code",
      "metadata": {
        "id": "7ljinslHMZ91"
      },
      "source": [
        "# retrain and save final model \n",
        "results, hyperparams, runtime, _, _, _ = run_experiment(\n",
        "    train_loader=snli_train_loader, val_loader=snli_val_loader,\n",
        "    model_type='rnn', hidden_size=BEST_RNN_HIDDEN_SIZE, fc_out_size=BEST_RNN_FC_OUT_SIZE, kernel_size=None, \n",
        "    learning_rate=0.001, num_epochs=10, experiment_name=BEST_RNN_MODEL_NAME, \n",
        "    save_to_log=True, save_checkpoint=True, print_summary=True, print_intermediate=True)"
      ],
      "execution_count": null,
      "outputs": []
    },
    {
      "cell_type": "code",
      "metadata": {
        "id": "icXc29lWManv"
      },
      "source": [
        "# plot training and test loss for best model \n",
        "best_rnn_results = load_experiment_log(experiment_name=BEST_RNN_MODEL_NAME, filename=RESULTS_LOG)[0]['results']\n",
        "plot_single_learning_curve(best_rnn_results)"
      ],
      "execution_count": null,
      "outputs": []
    },
    {
      "cell_type": "markdown",
      "metadata": {
        "id": "XSi7WqCvM4Ob"
      },
      "source": [
        "## Tune CNN"
      ]
    },
    {
      "cell_type": "markdown",
      "metadata": {
        "id": "Ja00it6JbXWE"
      },
      "source": [
        "### Tune Kernel Size"
      ]
    },
    {
      "cell_type": "code",
      "metadata": {
        "id": "Z5VVAb2sMaI2"
      },
      "source": [
        "kernel_sizes = [3, 5, 7]\n",
        "\n",
        "for kernel_size in kernel_sizes: \n",
        "    print (\"Training with kernel_size = {} ...\".format(kernel_size))\n",
        "    \n",
        "    # train and evaluate\n",
        "    results, hyperparams, runtime, _, _, _ = run_experiment(\n",
        "        train_loader=snli_train_loader, val_loader=snli_val_loader,\n",
        "        model_type='cnn', hidden_size=50, fc_out_size=500, kernel_size=kernel_size, \n",
        "        learning_rate=0.001, num_epochs=10, experiment_name='CNN_kernel_size_10epoch_v2', \n",
        "        save_to_log=True, save_checkpoint=False, print_summary=True, print_intermediate=True)"
      ],
      "execution_count": null,
      "outputs": []
    },
    {
      "cell_type": "code",
      "metadata": {
        "id": "XlGC-y8-MZyy"
      },
      "source": [
        "# retrieve kernel_size = 3 result from another experiment\n",
        "kernel_size_3 = summarize_results(load_experiment_log(experiment_name='CNN_hidden_fc_out_size_10epoch', filename=RESULTS_LOG))\n",
        "kernel_size_3 = kernel_size_3[(kernel_size_3['hidden_size'] == 50) & (best['fc_out_size'] == 500)]\n",
        "kernel_size_3['kernel_size'] = 3 # note this was previously misrecorded as 4 thus overwriting it \n",
        "\n",
        "# combine with other experiments \n",
        "kernel_sizes_exps = summarize_results(load_experiment_log(experiment_name='CNN_kernel_size_10epoch_v3', filename=RESULTS_LOG))\n",
        "kernel_sizes_exps = pd.concat([kernel_sizes_exps, kernel_size_3], sort=False)\n",
        "kernel_sizes_exps.sort_values(by='val_acc', ascending=False, inplace=True)\n",
        "kernel_sizes_exps[['kernel_size', 'num_epochs', 'runtime', 'val_acc']]"
      ],
      "execution_count": null,
      "outputs": []
    },
    {
      "cell_type": "code",
      "metadata": {
        "id": "DQq5nZiPMZZD"
      },
      "source": [
        "# ablation with kernel_size \n",
        "plot_multiple_learning_curves(kernel_sizes_exps, 'kernel_size', legend_loc='lower right')"
      ],
      "execution_count": null,
      "outputs": []
    },
    {
      "cell_type": "markdown",
      "metadata": {
        "id": "tEjJQ96pMXsD"
      },
      "source": [
        "### Tune hidden_size and fc_out_size together"
      ]
    },
    {
      "cell_type": "code",
      "metadata": {
        "id": "QTsJOwshGVv2"
      },
      "source": [
        "BEST_KERNEL_SIZE = 3\n",
        "hidden_sizes = [25, 50, 100, 200]\n",
        "fc_out_sizes = [100, 200, 300, 500, 750]\n",
        "\n",
        "for hidden_size in hidden_sizes: \n",
        "    for fc_out_size in fc_out_sizes: \n",
        "        print (\"Training with hidden_size = {} and fc_out_size = {} ...\".format(hidden_size, fc_out_size))\n",
        "\n",
        "        # train and evaluate\n",
        "        results, hyperparams, runtime, _, _, _ = run_experiment(\n",
        "            train_loader=snli_train_loader, val_loader=snli_val_loader,\n",
        "            model_type='cnn', hidden_size=hidden_size, fc_out_size=fc_out_size, kernel_size=BEST_KERNEL_SIZE, \n",
        "            learning_rate=0.001, num_epochs=10, experiment_name='CNN_hidden_fc_out_size_10epoch', \n",
        "            save_to_log=True, save_checkpoint=False, print_summary=True, print_intermediate=True)"
      ],
      "execution_count": null,
      "outputs": []
    },
    {
      "cell_type": "code",
      "metadata": {
        "id": "fvxhFPfGbsWq"
      },
      "source": [
        "cnn_hidden_fc_out_size_exps = summarize_results(load_experiment_log(experiment_name='CNN_hidden_fc_out_size_10epoch', filename=RESULTS_LOG))\n",
        "cnn_hidden_fc_out_size_exps[['hidden_size', 'fc_out_size', 'num_epochs', 'runtime', 'val_acc', 'learning_rate']].sort_values(['hidden_size', 'fc_out_size'])"
      ],
      "execution_count": null,
      "outputs": []
    },
    {
      "cell_type": "code",
      "metadata": {
        "id": "a_lE0blqbs1b"
      },
      "source": [
        "# plot summary results \n",
        "pd.pivot_table(cnn_hidden_fc_out_size_exps, values='val_acc', index='fc_out_size', columns='hidden_size').plot();"
      ],
      "execution_count": null,
      "outputs": []
    },
    {
      "cell_type": "code",
      "metadata": {
        "id": "h9_yDEqhbs98"
      },
      "source": [
        "# best CNN model \n",
        "cnn_hidden_fc_out_size_exps[['hidden_size', 'fc_out_size', 'kernel_size','num_epochs', 'runtime', 'val_acc']].sort_values(\n",
        "    ['val_acc'], ascending=False).head(1)"
      ],
      "execution_count": null,
      "outputs": []
    },
    {
      "cell_type": "code",
      "metadata": {
        "id": "Xr4AzYGybt3I"
      },
      "source": [
        "# ablation with hidden size (set fc_out_size = 500)\n",
        "cnn_hidden_size_ablation = cnn_hidden_fc_out_size_exps[cnn_hidden_fc_out_size_exps['fc_out_size'] == 500]\n",
        "plot_multiple_learning_curves(cnn_hidden_size_ablation, 'hidden_size', legend_loc='lower right')"
      ],
      "execution_count": null,
      "outputs": []
    },
    {
      "cell_type": "code",
      "metadata": {
        "id": "Rz1rXekVbuo9"
      },
      "source": [
        "# ablation with fc_out_size \n",
        "cnn_hidden_size_ablation = cnn_hidden_fc_out_size_exps[cnn_hidden_fc_out_size_exps['hidden_size'] == 50]\n",
        "plot_multiple_learning_curves(cnn_hidden_size_ablation, 'fc_out_size', legend_loc='lower right')"
      ],
      "execution_count": null,
      "outputs": []
    },
    {
      "cell_type": "markdown",
      "metadata": {
        "id": "-9q1mSyTcZCg"
      },
      "source": [
        "### Test Dropout"
      ]
    },
    {
      "cell_type": "code",
      "metadata": {
        "id": "o918c06RbuTD"
      },
      "source": [
        "dropout_fcs = [0.5]\n",
        "\n",
        "for dropout_fc in dropout_fcs: \n",
        "    print (\"Training with dropout_fc = {} ...\".format(dropout_fc))\n",
        "\n",
        "    # train and evaluate\n",
        "    results, hyperparams, runtime, _, _, _ = run_experiment(\n",
        "        train_loader=snli_train_loader, val_loader=snli_val_loader,\n",
        "        model_type='cnn', hidden_size=50, fc_out_size=500, dropout_fc=dropout_fc, kernel_size=4, \n",
        "        learning_rate=0.001, num_epochs=10, experiment_name='CNN_dropout_fc_10epoch', \n",
        "        save_to_log=True, save_checkpoint=False, print_summary=True, print_intermediate=True)"
      ],
      "execution_count": null,
      "outputs": []
    },
    {
      "cell_type": "code",
      "metadata": {
        "id": "92KJfZDWbuEm"
      },
      "source": [
        "# get best without dropout \n",
        "cnn_optimal = cnn_hidden_size_ablation[cnn_hidden_size_ablation['fc_out_size'] == 500].copy()\n",
        "cnn_optimal['dropout_fc'] = 'None'\n",
        "# concat with dropout \n",
        "cnn_dropout_exps = summarize_results(load_experiment_log(experiment_name='CNN_dropout_fc_10epoch', filename=RESULTS_LOG))\n",
        "cnn_dropout_exps.dropna(subset=['dropout_fc'], inplace=True) \n",
        "cnn_dropout_exps = pd.concat([cnn_dropout_exps, cnn_optimal], sort=True)  \n",
        "cnn_dropout_exps = cnn_dropout_exps.sort_values(by='val_acc', ascending=False)\n",
        "cnn_dropout_exps[['dropout_fc', 'num_epochs', 'runtime', 'val_acc']]"
      ],
      "execution_count": null,
      "outputs": []
    },
    {
      "cell_type": "code",
      "metadata": {
        "id": "xOuRz2Gibtrb"
      },
      "source": [
        "# ablation with kernel_size (with hidden_size=100, fc_out_size=500)\n",
        "plot_multiple_learning_curves(cnn_dropout_exps, 'dropout_fc', legend_loc='lower right')"
      ],
      "execution_count": null,
      "outputs": []
    },
    {
      "cell_type": "markdown",
      "metadata": {
        "id": "OjqDkXbmctCG"
      },
      "source": [
        "### Retrain and Save Best CNN Model\n"
      ]
    },
    {
      "cell_type": "code",
      "metadata": {
        "id": "yPIs3JpFbtj2"
      },
      "source": [
        "# summarize best hyperparameters \n",
        "BEST_CNN_MODEL_NAME = 'CNN_50hidden_500fc_10epoch_001lr_v2' \n",
        "BEST_CNN_KERNEL_SIZE = 3 \n",
        "BEST_CNN_HIDDEN_SIZE = 50\n",
        "BEST_CNN_FC_OUT_SIZE = 500\n",
        "BEST_CNN_DROPOUT_FC = None"
      ],
      "execution_count": null,
      "outputs": []
    },
    {
      "cell_type": "code",
      "metadata": {
        "id": "86qWF0oCbtbj"
      },
      "source": [
        "# retrain and save final model \n",
        "results, hyperparams, runtime, _, _, _ = run_experiment(\n",
        "    train_loader=snli_train_loader, val_loader=snli_val_loader,\n",
        "    model_type='cnn', hidden_size=BEST_CNN_HIDDEN_SIZE, fc_out_size=BEST_CNN_FC_OUT_SIZE, kernel_size=BEST_CNN_KERNEL_SIZE, \n",
        "    learning_rate=0.001, num_epochs=10, experiment_name=BEST_CNN_MODEL_NAME, dropout_fc = None, \n",
        "    save_to_log=True, save_checkpoint=True, print_summary=True, print_intermediate=True)"
      ],
      "execution_count": null,
      "outputs": []
    },
    {
      "cell_type": "code",
      "metadata": {
        "id": "sJ-I2xplc0WT"
      },
      "source": [
        "# plot training and test loss for best model \n",
        "best_cnn_results = load_experiment_log(experiment_name=BEST_CNN_MODEL_NAME, filename=RESULTS_LOG)[0]['results']\n",
        "plot_single_learning_curve(best_cnn_results)"
      ],
      "execution_count": null,
      "outputs": []
    },
    {
      "cell_type": "markdown",
      "metadata": {
        "id": "V6e0hjlRc-X-"
      },
      "source": [
        "# Model Evaluation\n"
      ]
    },
    {
      "cell_type": "markdown",
      "metadata": {
        "id": "_iUyay-OdEjm"
      },
      "source": [
        "## Reload Best Models\n"
      ]
    },
    {
      "cell_type": "code",
      "metadata": {
        "id": "N15AXc6Wc1Jh"
      },
      "source": [
        "# reload best RNN \n",
        "best_rnn_model_snli = rnn_model(emb_size=300, num_layers=1, num_classes=3, pretrained_weights=pretrained_weights,\n",
        "                                hidden_size=BEST_RNN_HIDDEN_SIZE, fc_out_size=BEST_RNN_FC_OUT_SIZE)\n",
        "checkpoint = torch.load('model_checkpoints/{}.pth.tar'.format(BEST_RNN_MODEL_NAME), map_location=device)\n",
        "best_rnn_model_snli.load_state_dict(checkpoint)"
      ],
      "execution_count": null,
      "outputs": []
    },
    {
      "cell_type": "code",
      "metadata": {
        "id": "4pUylNN3c0wO"
      },
      "source": [
        "print(\"The best RNN model has {} parameters, of which {} are trainable.\".format(\n",
        "    count_parameters(best_rnn_model_snli)[0], count_parameters(best_rnn_model_snli)[1]))"
      ],
      "execution_count": null,
      "outputs": []
    },
    {
      "cell_type": "code",
      "metadata": {
        "id": "RyO5ScNoc0Fj"
      },
      "source": [
        "# reload best cnn \n",
        "best_cnn_model_snli = CNN(emb_size=300, num_layers=1, num_classes=3, pretrained_weights=pretrained_weights,\n",
        "                          hidden_size=BEST_CNN_HIDDEN_SIZE, fc_out_size=BEST_CNN_FC_OUT_SIZE, \n",
        "                          kernel_size=BEST_CNN_KERNEL_SIZE)\n",
        "checkpoint = torch.load('model_checkpoints/{}.pth.tar'.format(BEST_CNN_MODEL_NAME), map_location=device)\n",
        "best_cnn_model_snli.load_state_dict(checkpoint)"
      ],
      "execution_count": null,
      "outputs": []
    },
    {
      "cell_type": "code",
      "metadata": {
        "id": "4oMV7XgTbtTh"
      },
      "source": [
        "print(\"The best CNN model has {} parameters, of which {} are trainable.\".format(\n",
        "    count_parameters(best_cnn_model_snli)[0], count_parameters(best_cnn_model_snli)[1]))"
      ],
      "execution_count": null,
      "outputs": []
    },
    {
      "cell_type": "markdown",
      "metadata": {
        "id": "pDANq8RCfSUr"
      },
      "source": [
        "## Evaluate Examples from SNLI Validation Set (predict with best rnn model)"
      ]
    },
    {
      "cell_type": "code",
      "metadata": {
        "id": "7eB63AoEbsnB"
      },
      "source": [
        "# retest on SNLI validation set \n",
        "val_accuracy, val_predictions, val_labels = test_model(snli_val_loader, best_rnn_model_snli)"
      ],
      "execution_count": null,
      "outputs": []
    },
    {
      "cell_type": "code",
      "metadata": {
        "id": "cOcKzIbSbsCK"
      },
      "source": [
        "# zip val data, labels, and predictions \n",
        "val_combined = pd.DataFrame({\n",
        "    'premise': snli_val['sentence1'], 'hypothesis': snli_val['sentence2'], \n",
        "    'label': [t.item() for t in val_labels], 'prediction': [t.item() for t in val_predictions]})\n",
        "val_combined.head(10)\n",
        "val_combined['correct'] = np.where(val_combined['label'] == val_combined['prediction'], 1, 0)\n",
        "label_dict_reverse = dict((v,k) for k,v in label_dict.items())\n",
        "val_combined['label'] = val_combined['label'].map(label_dict_reverse)\n",
        "val_combined['prediction'] = val_combined['prediction'].map(label_dict_reverse)"
      ],
      "execution_count": null,
      "outputs": []
    },
    {
      "cell_type": "code",
      "metadata": {
        "id": "6S9g5vIHfbf6"
      },
      "source": [
        "# select 3 correct examples, one of each label \n",
        "pd.set_option('display.max_colwidth', 500)\n",
        "correct_entailment = val_combined[(val_combined['correct'] == 1) & (val_combined['label'] == 'entailment')].sample(1)\n",
        "correct_contradiction = val_combined[(val_combined['correct'] == 1) & (val_combined['label'] == 'contradiction')].sample(1)\n",
        "correct_neutral = val_combined[(val_combined['correct'] == 1) & (val_combined['label'] == 'neutral')].sample(1)\n",
        "correct_examples = pd.concat([correct_entailment, correct_contradiction, correct_neutral])\n",
        "correct_examples"
      ],
      "execution_count": null,
      "outputs": []
    },
    {
      "cell_type": "code",
      "metadata": {
        "id": "cLeIq0S-fc8e"
      },
      "source": [
        "# select 3 incorrect examples, one of each label \n",
        "incorrect_entailment = val_combined[(val_combined['correct'] == 0) & (val_combined['label'] == 'entailment')].sample(1)\n",
        "incorrect_contradiction = val_combined[(val_combined['correct'] == 0) & (val_combined['label'] == 'contradiction')].sample(1)\n",
        "incorrect_neutral = val_combined[(val_combined['correct'] == 0) & (val_combined['label'] == 'neutral')].sample(1)\n",
        "incorrect_examples = pd.concat([incorrect_entailment, incorrect_contradiction, incorrect_neutral])\n",
        "incorrect_examples"
      ],
      "execution_count": null,
      "outputs": []
    },
    {
      "cell_type": "markdown",
      "metadata": {
        "id": "c8zAXP7Cfo-D"
      },
      "source": [
        "## Evaluate on Unseen MNLI Validation Set\n"
      ]
    },
    {
      "cell_type": "code",
      "metadata": {
        "id": "ZYwN8s7Mfdce"
      },
      "source": [
        "mnli_genres = mnli_train['genre'].unique()\n",
        "mnli_train['genre'].value_counts()"
      ],
      "execution_count": null,
      "outputs": []
    },
    {
      "cell_type": "code",
      "metadata": {
        "id": "8oVlcDG0fdkc"
      },
      "source": [
        "mnli_train.head()\n"
      ],
      "execution_count": null,
      "outputs": []
    },
    {
      "cell_type": "code",
      "metadata": {
        "id": "6Rstj0nvfeWz"
      },
      "source": [
        "fig, axes = plt.subplots(nrows=1, ncols=2, figsize=(8,4), sharey=True)\n",
        "mnli_train['genre'].value_counts().plot(kind='barh', ax=axes[0], title='MultiNLI Train Samples')\n",
        "mnli_val['genre'].value_counts().plot(kind='barh', ax=axes[1], title='MultiNLI Val Samples')"
      ],
      "execution_count": null,
      "outputs": []
    },
    {
      "cell_type": "code",
      "metadata": {
        "id": "xw5_83sJfekN"
      },
      "source": [
        "# create data loaders and put in a dictionary \n",
        "\n",
        "mnli_data_loaders = {} \n",
        "for genre in mnli_genres: \n",
        "    # create train loader \n",
        "    genre_train = mnli_val[mnli_train['genre'] == genre].copy()\n",
        "    train_sent1, train_sent2, train_labels = df_to_list(genre_train, token2id)\n",
        "    train_loader = create_data_loader(train_sent1, train_sent2, train_labels)\n",
        "    # create val loader \n",
        "    genre_val = mnli_val[mnli_val['genre'] == genre].copy()\n",
        "    val_sent1, val_sent2, val_labels = df_to_list(genre_val, token2id)\n",
        "    val_loader = create_data_loader(val_sent1, val_sent2, val_labels)\n",
        "    # return loaders as (train_loader, val_loader) tuple stored as genre's value in dict \n",
        "    mnli_data_loaders[genre] = (train_loader, val_loader)"
      ],
      "execution_count": null,
      "outputs": []
    },
    {
      "cell_type": "code",
      "metadata": {
        "id": "6MZi1Y13feIT"
      },
      "source": [
        "eval_results = [] \n",
        "for genre in mnli_genres: \n",
        "    result ={} \n",
        "    result['genre'] = genre \n",
        "    result['rnn_untuned'] = test_model(mnli_data_loaders[genre][1], best_rnn_model_snli)[0]\n",
        "    result['cnn_untuned'] = test_model(mnli_data_loaders[genre][1], best_cnn_model_snli)[0]\n",
        "    eval_results.append(result)"
      ],
      "execution_count": null,
      "outputs": []
    },
    {
      "cell_type": "code",
      "metadata": {
        "id": "3KUZynKcfeFM"
      },
      "source": [
        "base_accuracy = pd.DataFrame.from_dict(eval_results)\n",
        "base_accuracy = base_accuracy[['genre', 'rnn_untuned', 'cnn_untuned']].copy() \n",
        "base_accuracy['rnn_untuned'] = base_accuracy['rnn_untuned'].round(1)\n",
        "base_accuracy['cnn_untuned'] = base_accuracy['cnn_untuned'].round(1)\n",
        "base_accuracy"
      ],
      "execution_count": null,
      "outputs": []
    },
    {
      "cell_type": "markdown",
      "metadata": {
        "id": "sBR0mcszgBGZ"
      },
      "source": [
        "# Model Finetuning\n"
      ]
    },
    {
      "cell_type": "code",
      "metadata": {
        "id": "T455sGjsfeA1"
      },
      "source": [
        "def finetune_model(genre, epochs=10, lr=0.0005): \n",
        "    \n",
        "    # instantiate base model \n",
        "    model = rnn_model(emb_size=300, num_layers=1, num_classes=3, pretrained_weights=pretrained_weights,\n",
        "                      hidden_size=BEST_RNN_HIDDEN_SIZE, fc_out_size=BEST_RNN_FC_OUT_SIZE)\n",
        "    checkpoint = torch.load('model_checkpoints/{}.pth.tar'.format(BEST_RNN_MODEL_NAME), map_location=device)\n",
        "    model.load_state_dict(checkpoint)\n",
        "    \n",
        "    # train for two epochs \n",
        "    results = train_and_eval(model=model, train_loader=mnli_data_loaders[genre][0], val_loader=mnli_data_loaders[genre][1],\n",
        "                             num_epochs=epochs, learning_rate=lr, print_intermediate=True, \n",
        "                             save_checkpoint=True, model_name=genre)\n",
        "    \n",
        "    # return file path of model state dict \n",
        "    print(\"Base model finetuned for {} genre dataset!\".format(genre))"
      ],
      "execution_count": null,
      "outputs": []
    },
    {
      "cell_type": "code",
      "metadata": {
        "id": "5Ie2CtAHfd6x"
      },
      "source": [
        "for genre in mnli_genres: \n",
        "    finetune_model(genre)"
      ],
      "execution_count": null,
      "outputs": []
    },
    {
      "cell_type": "code",
      "metadata": {
        "id": "NUjawH9Pfd1b"
      },
      "source": [
        "mnli_scores = [] \n",
        "\n",
        "for genre1 in mnli_genres: \n",
        "    # load model that was finetuned for genre1 \n",
        "    model = rnn_model(emb_size=300, num_layers=1, num_classes=3, pretrained_weights=pretrained_weights,\n",
        "                      hidden_size=BEST_RNN_HIDDEN_SIZE, fc_out_size=BEST_RNN_FC_OUT_SIZE)\n",
        "    checkpoint = torch.load('model_checkpoints/{}.pth.tar'.format(genre1), map_location=device)\n",
        "    model.load_state_dict(checkpoint)\n",
        "        \n",
        "    for genre2 in mnli_genres: \n",
        "        result = {} \n",
        "        result['genre_finetuned_on'] = genre1 \n",
        "        result['genre_tested_on'] = genre2 \n",
        "        result['accuracy'] = test_model(mnli_data_loaders[genre2][1], model)[0]\n",
        "        mnli_scores.append(result)"
      ],
      "execution_count": null,
      "outputs": []
    },
    {
      "cell_type": "code",
      "metadata": {
        "id": "plZHPulJfdKh"
      },
      "source": [
        "mnli_scores_df = pd.DataFrame.from_dict(mnli_scores)\n",
        "mnli_scores_df = mnli_scores_df[['genre_finetuned_on', 'genre_tested_on', 'accuracy']]\n",
        "mnli_scores_df['accuracy'] = mnli_scores_df['accuracy'].round(1)"
      ],
      "execution_count": null,
      "outputs": []
    },
    {
      "cell_type": "code",
      "metadata": {
        "id": "xQ9eGjPwfcpW"
      },
      "source": [
        "mnli_accuracy = mnli_scores_df[mnli_scores_df['genre_finetuned_on'] == mnli_scores_df['genre_tested_on']].copy()\n",
        "mnli_accuracy.rename(columns={'genre_finetuned_on': 'genre', 'accuracy': 'tuned_accuracy'}, inplace=True)\n",
        "mnli_accuracy.drop('genre_tested_on', axis=1, inplace=True)"
      ],
      "execution_count": null,
      "outputs": []
    },
    {
      "cell_type": "code",
      "metadata": {
        "id": "whtDY4tKfazX"
      },
      "source": [
        "both_accuracy = base_accuracy.merge(mnli_accuracy, how='left', on='genre')\n",
        "both_accuracy.drop('cnn_untuned', axis=1, inplace=True)\n",
        "both_accuracy.rename(columns={'tuned_accuracy': 'rnn_tuned'}, inplace=True)\n",
        "both_accuracy['improvement'] = both_accuracy['rnn_tuned'] - both_accuracy['rnn_untuned']\n",
        "both_accuracy"
      ],
      "execution_count": null,
      "outputs": []
    },
    {
      "cell_type": "code",
      "metadata": {
        "id": "t4W8KTwHgWCX"
      },
      "source": [
        "both_accuracy['improvement'].mean()"
      ],
      "execution_count": null,
      "outputs": []
    },
    {
      "cell_type": "code",
      "metadata": {
        "id": "0ojGpmD6gWtI"
      },
      "source": [
        "pivot = pd.pivot_table(mnli_scores_df, values='accuracy', index='genre_finetuned_on', columns='genre_tested_on') \n",
        "pivot"
      ],
      "execution_count": null,
      "outputs": []
    },
    {
      "cell_type": "code",
      "metadata": {
        "id": "xA6RBbiMgXTv"
      },
      "source": [
        "import seaborn as sns\n",
        "sns.heatmap(pivot, annot=True, fmt=\".1f\")"
      ],
      "execution_count": null,
      "outputs": []
    }
  ]
}